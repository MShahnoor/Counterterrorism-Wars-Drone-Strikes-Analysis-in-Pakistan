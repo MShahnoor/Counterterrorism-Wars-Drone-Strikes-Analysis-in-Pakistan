{
  "cells": [
    {
      "cell_type": "markdown",
      "metadata": {
        "id": "D_91bNp_Bgf9"
      },
      "source": [
        "# Data Analysis"
      ]
    },
    {
      "cell_type": "markdown",
      "metadata": {
        "id": "_AyiLV2OBjtM"
      },
      "source": [
        "<h3> <b>Objectives:<b> <h3/>\n",
        "\n",
        "* Analyze and Visualize Data\n",
        "\n",
        "* Find notable patterns"
      ]
    },
    {
      "cell_type": "markdown",
      "metadata": {
        "id": "4egUEnbGBtNe"
      },
      "source": [
        "### *We will try to find out anwers to following question in the analysis process.*\n",
        "\n",
        "1. **Causlties**\n",
        "\n",
        "  a. Total Casualties in each category:\n",
        "    * Leaders killed.\n",
        "    * Militants killed.\n",
        "    * Civilian Casualties.\n",
        "    * Unknown Casualites. \n",
        "  \n",
        "  b. To which category, most casualties belong? \n",
        "\n",
        "  c. Casualties by Region. \n",
        "  \n",
        "  d. Casualties by year. \n",
        "  \n",
        "  e. Casualties by Organization. \n",
        "\n",
        "2. **Strikes**\n",
        "  \n",
        "  a. Most targeted Regions.\n",
        " \n",
        "  b. Strikes by Year.\n"
      ]
    },
    {
      "cell_type": "markdown",
      "metadata": {
        "id": "NoegnFMbCflM"
      },
      "source": [
        "###  Import Libraries"
      ]
    },
    {
      "cell_type": "code",
      "execution_count": null,
      "metadata": {
        "colab": {
          "background_save": true
        },
        "id": "Kz9HexIz3kn7"
      },
      "outputs": [],
      "source": [
        "import pandas as pd\n",
        "import numpy as np\n",
        "import matplotlib.pyplot as plt\n",
        "import numpy as np\n",
        "import seaborn as sns\n",
        "sns.set_style(\"darkgrid\")"
      ]
    },
    {
      "cell_type": "code",
      "execution_count": null,
      "metadata": {
        "colab": {
          "base_uri": "https://localhost:8080/"
        },
        "id": "OTpaIs_a-0iz",
        "outputId": "bc5ce5e4-1ba6-4b85-cdc7-67fdf314b197"
      },
      "outputs": [
        {
          "name": "stdout",
          "output_type": "stream",
          "text": [
            "Mounted at /content/drive\n"
          ]
        }
      ],
      "source": [
        "from google.colab import drive\n",
        "drive.mount('/content/drive')"
      ]
    },
    {
      "cell_type": "markdown",
      "metadata": {
        "id": "UmB1kro_CmKx"
      },
      "source": [
        "###  Load Data"
      ]
    },
    {
      "cell_type": "code",
      "execution_count": null,
      "metadata": {
        "id": "0o6JuT1a-2Si"
      },
      "outputs": [],
      "source": [
        "df=pd.read_csv('/content/drive/My Drive/Data Science/drone-attacks-data-cleaned.csv',index_col=[0] )\n",
        "df['date'] = pd.to_datetime(df['date'], format=\"%y-%m-%d\",infer_datetime_format=True)"
      ]
    },
    {
      "cell_type": "markdown",
      "metadata": {
        "id": "6deC7GJYGJnk"
      },
      "source": [
        "###  Explore Data"
      ]
    },
    {
      "cell_type": "code",
      "execution_count": null,
      "metadata": {
        "colab": {
          "base_uri": "https://localhost:8080/"
        },
        "id": "FpzlGMVDGMQi",
        "outputId": "f74c12dd-e4f4-4dbb-e136-9f9b7228a969"
      },
      "outputs": [
        {
          "data": {
            "text/plain": [
              "(414, 27)"
            ]
          },
          "execution_count": 33,
          "metadata": {},
          "output_type": "execute_result"
        }
      ],
      "source": [
        "df.shape"
      ]
    },
    {
      "cell_type": "code",
      "execution_count": null,
      "metadata": {
        "colab": {
          "base_uri": "https://localhost:8080/"
        },
        "id": "8KuZDdFhbKhN",
        "outputId": "5b9becd9-9c8b-459e-c8b2-bd7fa1059d21"
      },
      "outputs": [
        {
          "name": "stdout",
          "output_type": "stream",
          "text": [
            "<class 'pandas.core.frame.DataFrame'>\n",
            "Int64Index: 414 entries, 0 to 413\n",
            "Data columns (total 27 columns):\n",
            " #   Column                 Non-Null Count  Dtype         \n",
            "---  ------                 --------------  -----         \n",
            " 0   strikes                414 non-null    int64         \n",
            " 1   date                   414 non-null    datetime64[ns]\n",
            " 2   village                414 non-null    object        \n",
            " 3   region                 414 non-null    object        \n",
            " 4   year                   414 non-null    int64         \n",
            " 5   leaders-killed         414 non-null    int64         \n",
            " 6   leader-names           414 non-null    object        \n",
            " 7   leader-description     414 non-null    object        \n",
            " 8   militants-killed-low   414 non-null    int64         \n",
            " 9   militants-killed-high  414 non-null    int64         \n",
            " 10  militants-killed-avg   414 non-null    int64         \n",
            " 11  unknown-killed-low     414 non-null    int64         \n",
            " 12  unknown-killed-high    414 non-null    int64         \n",
            " 13  unknown-killed-avg     414 non-null    int64         \n",
            " 14  civilians-killed-low   414 non-null    int64         \n",
            " 15  civilians-killed-high  414 non-null    int64         \n",
            " 16  civilians-killed-avg   414 non-null    int64         \n",
            " 17  total-killed-low       414 non-null    int64         \n",
            " 18  total-killed-high      414 non-null    int64         \n",
            " 19  total-killed-avg       414 non-null    int64         \n",
            " 20  president (US)         414 non-null    object        \n",
            " 21  target-type            414 non-null    object        \n",
            " 22  target-organization    414 non-null    object        \n",
            " 23  target-group           414 non-null    object        \n",
            " 24  target-latitude        414 non-null    float64       \n",
            " 25  target-longitude       414 non-null    float64       \n",
            " 26  province               414 non-null    object        \n",
            "dtypes: datetime64[ns](1), float64(2), int64(15), object(9)\n",
            "memory usage: 90.6+ KB\n"
          ]
        }
      ],
      "source": [
        "df.info()"
      ]
    },
    {
      "cell_type": "code",
      "execution_count": null,
      "metadata": {
        "colab": {
          "base_uri": "https://localhost:8080/",
          "height": 508
        },
        "id": "VWcqHrA6_CxJ",
        "outputId": "fbce9901-dbcd-48d5-852e-dc988ae9edbc"
      },
      "outputs": [
        {
          "data": {
            "text/html": [
              "\n",
              "  <div id=\"df-56944b3f-4d09-4859-9178-a45b0ecdd7aa\">\n",
              "    <div class=\"colab-df-container\">\n",
              "      <div>\n",
              "<style scoped>\n",
              "    .dataframe tbody tr th:only-of-type {\n",
              "        vertical-align: middle;\n",
              "    }\n",
              "\n",
              "    .dataframe tbody tr th {\n",
              "        vertical-align: top;\n",
              "    }\n",
              "\n",
              "    .dataframe thead th {\n",
              "        text-align: right;\n",
              "    }\n",
              "</style>\n",
              "<table border=\"1\" class=\"dataframe\">\n",
              "  <thead>\n",
              "    <tr style=\"text-align: right;\">\n",
              "      <th></th>\n",
              "      <th>strikes</th>\n",
              "      <th>date</th>\n",
              "      <th>village</th>\n",
              "      <th>region</th>\n",
              "      <th>year</th>\n",
              "      <th>leaders-killed</th>\n",
              "      <th>leader-names</th>\n",
              "      <th>leader-description</th>\n",
              "      <th>militants-killed-low</th>\n",
              "      <th>militants-killed-high</th>\n",
              "      <th>...</th>\n",
              "      <th>total-killed-low</th>\n",
              "      <th>total-killed-high</th>\n",
              "      <th>total-killed-avg</th>\n",
              "      <th>president (US)</th>\n",
              "      <th>target-type</th>\n",
              "      <th>target-organization</th>\n",
              "      <th>target-group</th>\n",
              "      <th>target-latitude</th>\n",
              "      <th>target-longitude</th>\n",
              "      <th>province</th>\n",
              "    </tr>\n",
              "  </thead>\n",
              "  <tbody>\n",
              "    <tr>\n",
              "      <th>0</th>\n",
              "      <td>1</td>\n",
              "      <td>2004-06-19</td>\n",
              "      <td>wana</td>\n",
              "      <td>south waziristan</td>\n",
              "      <td>2004</td>\n",
              "      <td>1</td>\n",
              "      <td>nek muhammad</td>\n",
              "      <td>commander, taliban</td>\n",
              "      <td>1</td>\n",
              "      <td>1</td>\n",
              "      <td>...</td>\n",
              "      <td>7</td>\n",
              "      <td>7</td>\n",
              "      <td>7</td>\n",
              "      <td>bush</td>\n",
              "      <td>house</td>\n",
              "      <td>taliban</td>\n",
              "      <td>1. taliban</td>\n",
              "      <td>32.307446</td>\n",
              "      <td>69.565430</td>\n",
              "      <td>federally administered tribal areas</td>\n",
              "    </tr>\n",
              "    <tr>\n",
              "      <th>1</th>\n",
              "      <td>1</td>\n",
              "      <td>2005-05-08</td>\n",
              "      <td>toorikhel, mirali</td>\n",
              "      <td>north waziristan</td>\n",
              "      <td>2005</td>\n",
              "      <td>1</td>\n",
              "      <td>haitham al-yemeni</td>\n",
              "      <td>explosives expert, al qaeda</td>\n",
              "      <td>2</td>\n",
              "      <td>2</td>\n",
              "      <td>...</td>\n",
              "      <td>2</td>\n",
              "      <td>2</td>\n",
              "      <td>2</td>\n",
              "      <td>bush</td>\n",
              "      <td>unclear</td>\n",
              "      <td>al-qaeda</td>\n",
              "      <td>3. al-qaeda</td>\n",
              "      <td>32.987644</td>\n",
              "      <td>70.261345</td>\n",
              "      <td>federally administered tribal areas</td>\n",
              "    </tr>\n",
              "    <tr>\n",
              "      <th>2</th>\n",
              "      <td>1</td>\n",
              "      <td>2005-11-05</td>\n",
              "      <td>haisori</td>\n",
              "      <td>north waziristan</td>\n",
              "      <td>2005</td>\n",
              "      <td>0</td>\n",
              "      <td>none</td>\n",
              "      <td>none</td>\n",
              "      <td>0</td>\n",
              "      <td>0</td>\n",
              "      <td>...</td>\n",
              "      <td>8</td>\n",
              "      <td>8</td>\n",
              "      <td>8</td>\n",
              "      <td>bush</td>\n",
              "      <td>house</td>\n",
              "      <td>al-qaeda</td>\n",
              "      <td>3. al-qaeda</td>\n",
              "      <td>33.010391</td>\n",
              "      <td>70.043335</td>\n",
              "      <td>federally administered tribal areas</td>\n",
              "    </tr>\n",
              "    <tr>\n",
              "      <th>3</th>\n",
              "      <td>1</td>\n",
              "      <td>2005-12-01</td>\n",
              "      <td>patasi adda</td>\n",
              "      <td>north waziristan</td>\n",
              "      <td>2005</td>\n",
              "      <td>1</td>\n",
              "      <td>abu hamza rabia</td>\n",
              "      <td>senior commander, al qaeda</td>\n",
              "      <td>3</td>\n",
              "      <td>3</td>\n",
              "      <td>...</td>\n",
              "      <td>5</td>\n",
              "      <td>5</td>\n",
              "      <td>5</td>\n",
              "      <td>bush</td>\n",
              "      <td>unclear</td>\n",
              "      <td>al-qaeda</td>\n",
              "      <td>3. al-qaeda</td>\n",
              "      <td>32.096860</td>\n",
              "      <td>70.265700</td>\n",
              "      <td>federally administered tribal areas</td>\n",
              "    </tr>\n",
              "    <tr>\n",
              "      <th>4</th>\n",
              "      <td>1</td>\n",
              "      <td>2006-01-06</td>\n",
              "      <td>damadola</td>\n",
              "      <td>bajaur</td>\n",
              "      <td>2006</td>\n",
              "      <td>0</td>\n",
              "      <td>none</td>\n",
              "      <td>none</td>\n",
              "      <td>0</td>\n",
              "      <td>0</td>\n",
              "      <td>...</td>\n",
              "      <td>8</td>\n",
              "      <td>18</td>\n",
              "      <td>13</td>\n",
              "      <td>bush</td>\n",
              "      <td>gathering</td>\n",
              "      <td>al-qaeda</td>\n",
              "      <td>3. al-qaeda</td>\n",
              "      <td>34.801682</td>\n",
              "      <td>71.472588</td>\n",
              "      <td>federally administered tribal areas</td>\n",
              "    </tr>\n",
              "  </tbody>\n",
              "</table>\n",
              "<p>5 rows × 27 columns</p>\n",
              "</div>\n",
              "      <button class=\"colab-df-convert\" onclick=\"convertToInteractive('df-56944b3f-4d09-4859-9178-a45b0ecdd7aa')\"\n",
              "              title=\"Convert this dataframe to an interactive table.\"\n",
              "              style=\"display:none;\">\n",
              "        \n",
              "  <svg xmlns=\"http://www.w3.org/2000/svg\" height=\"24px\"viewBox=\"0 0 24 24\"\n",
              "       width=\"24px\">\n",
              "    <path d=\"M0 0h24v24H0V0z\" fill=\"none\"/>\n",
              "    <path d=\"M18.56 5.44l.94 2.06.94-2.06 2.06-.94-2.06-.94-.94-2.06-.94 2.06-2.06.94zm-11 1L8.5 8.5l.94-2.06 2.06-.94-2.06-.94L8.5 2.5l-.94 2.06-2.06.94zm10 10l.94 2.06.94-2.06 2.06-.94-2.06-.94-.94-2.06-.94 2.06-2.06.94z\"/><path d=\"M17.41 7.96l-1.37-1.37c-.4-.4-.92-.59-1.43-.59-.52 0-1.04.2-1.43.59L10.3 9.45l-7.72 7.72c-.78.78-.78 2.05 0 2.83L4 21.41c.39.39.9.59 1.41.59.51 0 1.02-.2 1.41-.59l7.78-7.78 2.81-2.81c.8-.78.8-2.07 0-2.86zM5.41 20L4 18.59l7.72-7.72 1.47 1.35L5.41 20z\"/>\n",
              "  </svg>\n",
              "      </button>\n",
              "      \n",
              "  <style>\n",
              "    .colab-df-container {\n",
              "      display:flex;\n",
              "      flex-wrap:wrap;\n",
              "      gap: 12px;\n",
              "    }\n",
              "\n",
              "    .colab-df-convert {\n",
              "      background-color: #E8F0FE;\n",
              "      border: none;\n",
              "      border-radius: 50%;\n",
              "      cursor: pointer;\n",
              "      display: none;\n",
              "      fill: #1967D2;\n",
              "      height: 32px;\n",
              "      padding: 0 0 0 0;\n",
              "      width: 32px;\n",
              "    }\n",
              "\n",
              "    .colab-df-convert:hover {\n",
              "      background-color: #E2EBFA;\n",
              "      box-shadow: 0px 1px 2px rgba(60, 64, 67, 0.3), 0px 1px 3px 1px rgba(60, 64, 67, 0.15);\n",
              "      fill: #174EA6;\n",
              "    }\n",
              "\n",
              "    [theme=dark] .colab-df-convert {\n",
              "      background-color: #3B4455;\n",
              "      fill: #D2E3FC;\n",
              "    }\n",
              "\n",
              "    [theme=dark] .colab-df-convert:hover {\n",
              "      background-color: #434B5C;\n",
              "      box-shadow: 0px 1px 3px 1px rgba(0, 0, 0, 0.15);\n",
              "      filter: drop-shadow(0px 1px 2px rgba(0, 0, 0, 0.3));\n",
              "      fill: #FFFFFF;\n",
              "    }\n",
              "  </style>\n",
              "\n",
              "      <script>\n",
              "        const buttonEl =\n",
              "          document.querySelector('#df-56944b3f-4d09-4859-9178-a45b0ecdd7aa button.colab-df-convert');\n",
              "        buttonEl.style.display =\n",
              "          google.colab.kernel.accessAllowed ? 'block' : 'none';\n",
              "\n",
              "        async function convertToInteractive(key) {\n",
              "          const element = document.querySelector('#df-56944b3f-4d09-4859-9178-a45b0ecdd7aa');\n",
              "          const dataTable =\n",
              "            await google.colab.kernel.invokeFunction('convertToInteractive',\n",
              "                                                     [key], {});\n",
              "          if (!dataTable) return;\n",
              "\n",
              "          const docLinkHtml = 'Like what you see? Visit the ' +\n",
              "            '<a target=\"_blank\" href=https://colab.research.google.com/notebooks/data_table.ipynb>data table notebook</a>'\n",
              "            + ' to learn more about interactive tables.';\n",
              "          element.innerHTML = '';\n",
              "          dataTable['output_type'] = 'display_data';\n",
              "          await google.colab.output.renderOutput(dataTable, element);\n",
              "          const docLink = document.createElement('div');\n",
              "          docLink.innerHTML = docLinkHtml;\n",
              "          element.appendChild(docLink);\n",
              "        }\n",
              "      </script>\n",
              "    </div>\n",
              "  </div>\n",
              "  "
            ],
            "text/plain": [
              "   strikes       date            village            region  year  \\\n",
              "0        1 2004-06-19               wana  south waziristan  2004   \n",
              "1        1 2005-05-08  toorikhel, mirali  north waziristan  2005   \n",
              "2        1 2005-11-05            haisori  north waziristan  2005   \n",
              "3        1 2005-12-01        patasi adda  north waziristan  2005   \n",
              "4        1 2006-01-06           damadola            bajaur  2006   \n",
              "\n",
              "   leaders-killed       leader-names           leader-description  \\\n",
              "0               1       nek muhammad           commander, taliban   \n",
              "1               1  haitham al-yemeni  explosives expert, al qaeda   \n",
              "2               0               none                         none   \n",
              "3               1    abu hamza rabia   senior commander, al qaeda   \n",
              "4               0               none                         none   \n",
              "\n",
              "   militants-killed-low  militants-killed-high  ...  total-killed-low  \\\n",
              "0                     1                      1  ...                 7   \n",
              "1                     2                      2  ...                 2   \n",
              "2                     0                      0  ...                 8   \n",
              "3                     3                      3  ...                 5   \n",
              "4                     0                      0  ...                 8   \n",
              "\n",
              "   total-killed-high  total-killed-avg  president (US)  target-type  \\\n",
              "0                  7                 7            bush        house   \n",
              "1                  2                 2            bush      unclear   \n",
              "2                  8                 8            bush        house   \n",
              "3                  5                 5            bush      unclear   \n",
              "4                 18                13            bush    gathering   \n",
              "\n",
              "   target-organization  target-group  target-latitude  target-longitude  \\\n",
              "0              taliban    1. taliban        32.307446         69.565430   \n",
              "1             al-qaeda   3. al-qaeda        32.987644         70.261345   \n",
              "2             al-qaeda   3. al-qaeda        33.010391         70.043335   \n",
              "3             al-qaeda   3. al-qaeda        32.096860         70.265700   \n",
              "4             al-qaeda   3. al-qaeda        34.801682         71.472588   \n",
              "\n",
              "                              province  \n",
              "0  federally administered tribal areas  \n",
              "1  federally administered tribal areas  \n",
              "2  federally administered tribal areas  \n",
              "3  federally administered tribal areas  \n",
              "4  federally administered tribal areas  \n",
              "\n",
              "[5 rows x 27 columns]"
            ]
          },
          "execution_count": 6,
          "metadata": {},
          "output_type": "execute_result"
        }
      ],
      "source": [
        "df.head()"
      ]
    },
    {
      "cell_type": "markdown",
      "metadata": {
        "id": "PrV8x2i2DAHD"
      },
      "source": [
        "# 1) Casualties"
      ]
    },
    {
      "cell_type": "markdown",
      "metadata": {
        "id": "GnlrezFigJ1c"
      },
      "source": [
        "## a. Total Casualties in each category."
      ]
    },
    {
      "cell_type": "markdown",
      "metadata": {
        "id": "w4Aq1wtzDdUv"
      },
      "source": [
        "###  Leaders killed"
      ]
    },
    {
      "cell_type": "code",
      "execution_count": null,
      "metadata": {
        "colab": {
          "base_uri": "https://localhost:8080/"
        },
        "id": "y_yvGIKlAzC6",
        "outputId": "47cdbe43-b309-4b47-e922-470273cf389a"
      },
      "outputs": [
        {
          "name": "stdout",
          "output_type": "stream",
          "text": [
            "Total leaders killed: 95\n"
          ]
        }
      ],
      "source": [
        "total_leaders_killed = df['leaders-killed'].sum()\n",
        "\n",
        "print(f\"Total leaders killed: {total_leaders_killed}\")"
      ]
    },
    {
      "cell_type": "markdown",
      "metadata": {
        "id": "sIsTNLXBDw1A"
      },
      "source": [
        "###  Millitants killed"
      ]
    },
    {
      "cell_type": "code",
      "execution_count": null,
      "metadata": {
        "colab": {
          "base_uri": "https://localhost:8080/"
        },
        "id": "FwhF5837DU2E",
        "outputId": "c95e1d24-ab3d-4519-d0c6-95b2ddece848"
      },
      "outputs": [
        {
          "name": "stdout",
          "output_type": "stream",
          "text": [
            "Total militants killed: 1910 to 3071\n",
            "Average: 2403\n"
          ]
        }
      ],
      "source": [
        "total_millitants_killed = str(df['militants-killed-low'].sum()) + \" to \" + str(df['militants-killed-high'].sum())\n",
        "avg_millitants_killed = df['militants-killed-avg'].sum()\n",
        "\n",
        "print(f\"Total militants killed: {total_millitants_killed}\")\n",
        "print(f\"Average: {avg_millitants_killed}\")"
      ]
    },
    {
      "cell_type": "markdown",
      "metadata": {
        "id": "oDRS3BvQeiyT"
      },
      "source": [
        "###  Civilian Casualties"
      ]
    },
    {
      "cell_type": "code",
      "execution_count": null,
      "metadata": {
        "colab": {
          "base_uri": "https://localhost:8080/"
        },
        "id": "Mxr73juQEhKu",
        "outputId": "a23d5164-2453-493c-bf2e-2171e6d9c289"
      },
      "outputs": [
        {
          "name": "stdout",
          "output_type": "stream",
          "text": [
            "Total Civilian Casualties: 245 to 303\n",
            "Average: 269\n"
          ]
        }
      ],
      "source": [
        "total_civilian_killed = str(df['civilians-killed-low'].sum()) + \" to \" + str(df['civilians-killed-high'].sum())\n",
        "avg_civilian_killed = df['civilians-killed-avg'].sum()\n",
        "\n",
        "print(f\"Total Civilian Casualties: {total_civilian_killed}\")\n",
        "print(f\"Average: {avg_civilian_killed}\")"
      ]
    },
    {
      "cell_type": "markdown",
      "metadata": {
        "id": "YfOLiN7qfHRP"
      },
      "source": [
        "###  Unknown Casualties"
      ]
    },
    {
      "cell_type": "code",
      "execution_count": null,
      "metadata": {
        "colab": {
          "base_uri": "https://localhost:8080/"
        },
        "id": "xWc6FN0OfHRQ",
        "outputId": "c39db5f5-0ae9-4dd4-a2b5-0384359bb354"
      },
      "outputs": [
        {
          "name": "stdout",
          "output_type": "stream",
          "text": [
            "Total Unknown Casualties: 211 to 328\n",
            "Average: 263\n"
          ]
        }
      ],
      "source": [
        "total_unknown_killed = str(df['unknown-killed-low'].sum()) + \" to \" + str(df['unknown-killed-high'].sum())\n",
        "avg_unknown_killed = df['unknown-killed-avg'].sum()\n",
        "\n",
        "print(f\"Total Unknown Casualties: {total_unknown_killed}\")\n",
        "print(f\"Average: {avg_unknown_killed}\")"
      ]
    },
    {
      "cell_type": "markdown",
      "metadata": {
        "id": "kwCr_fw8kToF"
      },
      "source": [
        "###  Total Casualties"
      ]
    },
    {
      "cell_type": "code",
      "execution_count": null,
      "metadata": {
        "colab": {
          "base_uri": "https://localhost:8080/"
        },
        "id": "Oj27ViHnkToO",
        "outputId": "2d760549-4d76-422e-e44d-6ab25fc13e6a"
      },
      "outputs": [
        {
          "name": "stdout",
          "output_type": "stream",
          "text": [
            "Total Casualties: 2366 to 3702\n",
            "Average: 2940\n"
          ]
        }
      ],
      "source": [
        "total_casualties = str(df['total-killed-low'].sum()) + \" to \" + str(df['total-killed-high'].sum())\n",
        "avg_total_casualties = df['total-killed-avg'].sum()\n",
        "\n",
        "print(f\"Total Casualties: {total_casualties}\")\n",
        "print(f\"Average: {avg_total_casualties}\")"
      ]
    },
    {
      "cell_type": "markdown",
      "metadata": {
        "id": "grBvdT05gSvx"
      },
      "source": [
        "## b. To which category, most casualties belong? "
      ]
    },
    {
      "cell_type": "markdown",
      "metadata": {
        "id": "beAheeExgXC_"
      },
      "source": [
        "Using Pie chart to show percentage of casualties in each category."
      ]
    },
    {
      "cell_type": "code",
      "execution_count": null,
      "metadata": {
        "colab": {
          "base_uri": "https://localhost:8080/"
        },
        "id": "pngKgXSl4DsE",
        "outputId": "45d700d0-9716-4882-81f2-1ac678178705"
      },
      "outputs": [
        {
          "name": "stderr",
          "output_type": "stream",
          "text": [
            "/usr/local/lib/python3.8/dist-packages/pandas/core/frame.py:5039: SettingWithCopyWarning: \n",
            "A value is trying to be set on a copy of a slice from a DataFrame\n",
            "\n",
            "See the caveats in the documentation: https://pandas.pydata.org/pandas-docs/stable/user_guide/indexing.html#returning-a-view-versus-a-copy\n",
            "  return super().rename(\n"
          ]
        }
      ],
      "source": [
        "df_casualites = df[['leaders-killed', 'militants-killed-avg', 'civilians-killed-avg', 'unknown-killed-avg']]\n",
        "df_casualites.rename(columns={'leaders-killed':'Leaders', 'militants-killed-avg':'Millitants', 'civilians-killed-avg':'Civilians', 'unknown-killed-avg':'Unknown'},inplace=True)\n",
        "casualties_by_category = dict(((pd.DataFrame(df_casualites.sum())).transpose()).loc[0])"
      ]
    },
    {
      "cell_type": "code",
      "execution_count": null,
      "metadata": {
        "id": "xF70iIrX898X"
      },
      "outputs": [],
      "source": [
        "import operator\n",
        "casualties_by_category = dict( sorted(casualties_by_category.items(), key=operator.itemgetter(1),reverse=True))"
      ]
    },
    {
      "cell_type": "code",
      "execution_count": null,
      "metadata": {
        "colab": {
          "base_uri": "https://localhost:8080/",
          "height": 412
        },
        "id": "8i-5xKFwfUKv",
        "outputId": "cfbc8c4b-ce00-4e51-9699-41ba4901bce4"
      },
      "outputs": [
        {
          "data": {
            "image/png": "[encoded data removed]",
            "text/plain": [
              "<Figure size 1080x432 with 1 Axes>"
            ]
          },
          "metadata": {},
          "output_type": "display_data"
        }
      ],
      "source": [
        "min_year, max_year = df['year'].min(), df['year'].max()\n",
        "colors_list, explode_list = ['#0D549F', '#706F6F','#9D9D9C', '#DADADA'], [0.03, 0.1, 0.1, 0.1] \n",
        "\n",
        "plt.figure(figsize=(15, 6))\n",
        "\n",
        "plt.pie(casualties_by_category.values(), labels=None, colors=colors_list,  autopct='%1.1f%%', startangle=90, pctdistance=1.12,explode = explode_list)\n",
        "\n",
        "centre_circle = plt.Circle((0,0),0.65,color='white', fc='white',linewidth=1.00)\n",
        "fig = plt.gcf()\n",
        "fig.gca().add_artist(centre_circle)\n",
        "\n",
        "plt.title(f'Average Casualties by Category [{min_year} to {max_year}]', y=1.12) \n",
        "\n",
        "plt.axis('equal') \n",
        "plt.legend(labels=casualties_by_category, loc='upper left') \n",
        "\n",
        "plt.show()"
      ]
    },
    {
      "cell_type": "markdown",
      "metadata": {
        "id": "k73Z5U613J3h"
      },
      "source": [
        "## c. Casualties by Region."
      ]
    },
    {
      "cell_type": "code",
      "execution_count": null,
      "metadata": {
        "id": "EHJUeIvGnJft"
      },
      "outputs": [],
      "source": [
        "df_region = df\n",
        "df_region = df_region.groupby('region', axis=0).sum()\n",
        "\n",
        "df_region.sort_values(by=\"total-killed-avg\",inplace=True,ascending=False)"
      ]
    },
    {
      "cell_type": "code",
      "execution_count": null,
      "metadata": {
        "colab": {
          "base_uri": "https://localhost:8080/",
          "height": 350
        },
        "id": "LmMgigmy4cNG",
        "outputId": "45541f26-9271-429e-a0dc-80580183f845"
      },
      "outputs": [
        {
          "data": {
            "image/png": "[encoded data removed]",
            "text/plain": [
              "<Figure size 1080x360 with 1 Axes>"
            ]
          },
          "metadata": {},
          "output_type": "display_data"
        }
      ],
      "source": [
        "plt.figure(figsize=(15, 5))\n",
        "plt.title('Casualties by Region')\n",
        "\n",
        "colors_list = ['#0D549F' if avg > 300 else '#9D9D9C' for avg in df_region['total-killed-avg']]\n",
        "\n",
        "plots = sns.barplot(x = 'total-killed-avg', y = [region.title() for region in list(df_region.index)], data = df_region, palette = colors_list)\n",
        "\n",
        "for p in plots.patches:\n",
        "    width, height = p.get_width(), p.get_height()\n",
        "    plt.text(30+width, p.get_y()+0.55*height, int(width), ha='center', va='center')\n",
        " \n",
        "plt.xlabel('Average Casualties')\n",
        "plt.ylabel('Regions')\n",
        "plt.show()"
      ]
    },
    {
      "cell_type": "markdown",
      "metadata": {
        "id": "K63DpLfDY13I"
      },
      "source": [
        "## c. Casualties by Year."
      ]
    },
    {
      "cell_type": "code",
      "execution_count": null,
      "metadata": {
        "id": "-wmXaWxwY13J"
      },
      "outputs": [],
      "source": [
        "df_year = df\n",
        "df_year = df_year.groupby('year', axis=0).sum()\n",
        "\n",
        "df_year.sort_values(by=\"total-killed-avg\",inplace=True,ascending=False)\n",
        "df_year.rename(columns = {'militants-killed-avg':'Millitants', 'unknown-killed-avg':'Unknown','civilians-killed-avg':'Civilians','leaders-killed':'Leaders'}, inplace = True)"
      ]
    },
    {
      "cell_type": "code",
      "execution_count": null,
      "metadata": {
        "colab": {
          "base_uri": "https://localhost:8080/",
          "height": 445
        },
        "id": "NfNdYCyLaqj_",
        "outputId": "de5c7bd0-75b9-4bbf-e964-69841f8fc2b2"
      },
      "outputs": [
        {
          "data": {
            "image/png": "[encoded data removed]",
            "text/plain": [
              "<Figure size 1584x504 with 2 Axes>"
            ]
          },
          "metadata": {},
          "output_type": "display_data"
        }
      ],
      "source": [
        "fig = plt.figure(figsize=(22,7)) # create figure\n",
        "\n",
        "ax0 = fig.add_subplot(1, 2, 1) # add subplot 1 (1 row, 2 columns, first plot)\n",
        "ax1 = fig.add_subplot(1, 2, 2) \n",
        "\n",
        "# Subplot 1: Box plot\n",
        "sns.lineplot(y = 'total-killed-avg', x = df_year.index, data = df_year,marker=\"D\", markersize=8, ax=ax0)\n",
        "ax0.set_title('Average Total Casualties by Year')\n",
        "ax0.set_xlabel('Year')\n",
        "ax0.set_ylabel('Casualties')\n",
        "\n",
        "# Subplot 2: Line plot\n",
        "sns.lineplot( data = df_year[['Millitants', 'Unknown','Civilians','Leaders']],marker=\".\", markersize=10,ax=ax1) \n",
        "ax1.set_title ('Average Causlties by year (Category wise)')\n",
        "ax1.set_ylabel('Casualties')\n",
        "ax1.set_xlabel('Year')\n",
        "\n",
        "plt.show()"
      ]
    },
    {
      "cell_type": "markdown",
      "metadata": {
        "id": "JWOjqrkvZDKv"
      },
      "source": [
        "There's a spike in casulties from 2007 and ownwards. Let's explore why?"
      ]
    },
    {
      "cell_type": "markdown",
      "metadata": {
        "id": "iQBNbtewc56U"
      },
      "source": [
        "Have look at number of strikes each year."
      ]
    },
    {
      "cell_type": "code",
      "execution_count": null,
      "metadata": {
        "colab": {
          "base_uri": "https://localhost:8080/",
          "height": 112
        },
        "id": "h2Qv3Ht-dzQh",
        "outputId": "e6a23d2e-395c-4f2c-d23a-45a8758cc150"
      },
      "outputs": [
        {
          "data": {
            "text/html": [
              "\n",
              "  <div id=\"df-e3108e1d-289b-4b01-a5b8-11592ec0c16c\">\n",
              "    <div class=\"colab-df-container\">\n",
              "      <div>\n",
              "<style scoped>\n",
              "    .dataframe tbody tr th:only-of-type {\n",
              "        vertical-align: middle;\n",
              "    }\n",
              "\n",
              "    .dataframe tbody tr th {\n",
              "        vertical-align: top;\n",
              "    }\n",
              "\n",
              "    .dataframe thead th {\n",
              "        text-align: right;\n",
              "    }\n",
              "</style>\n",
              "<table border=\"1\" class=\"dataframe\">\n",
              "  <thead>\n",
              "    <tr style=\"text-align: right;\">\n",
              "      <th>year</th>\n",
              "      <th>2004</th>\n",
              "      <th>2005</th>\n",
              "      <th>2006</th>\n",
              "      <th>2007</th>\n",
              "      <th>2008</th>\n",
              "      <th>2009</th>\n",
              "      <th>2010</th>\n",
              "      <th>2011</th>\n",
              "      <th>2012</th>\n",
              "      <th>2013</th>\n",
              "      <th>2014</th>\n",
              "      <th>2015</th>\n",
              "      <th>2016</th>\n",
              "      <th>2017</th>\n",
              "      <th>2018</th>\n",
              "    </tr>\n",
              "  </thead>\n",
              "  <tbody>\n",
              "    <tr>\n",
              "      <th>strikes</th>\n",
              "      <td>1</td>\n",
              "      <td>3</td>\n",
              "      <td>2</td>\n",
              "      <td>4</td>\n",
              "      <td>36</td>\n",
              "      <td>54</td>\n",
              "      <td>122</td>\n",
              "      <td>70</td>\n",
              "      <td>48</td>\n",
              "      <td>26</td>\n",
              "      <td>22</td>\n",
              "      <td>10</td>\n",
              "      <td>3</td>\n",
              "      <td>8</td>\n",
              "      <td>5</td>\n",
              "    </tr>\n",
              "    <tr>\n",
              "      <th>total-killed-avg</th>\n",
              "      <td>7</td>\n",
              "      <td>15</td>\n",
              "      <td>94</td>\n",
              "      <td>62</td>\n",
              "      <td>274</td>\n",
              "      <td>532</td>\n",
              "      <td>802</td>\n",
              "      <td>486</td>\n",
              "      <td>281</td>\n",
              "      <td>139</td>\n",
              "      <td>138</td>\n",
              "      <td>53</td>\n",
              "      <td>9</td>\n",
              "      <td>38</td>\n",
              "      <td>10</td>\n",
              "    </tr>\n",
              "  </tbody>\n",
              "</table>\n",
              "</div>\n",
              "      <button class=\"colab-df-convert\" onclick=\"convertToInteractive('df-e3108e1d-289b-4b01-a5b8-11592ec0c16c')\"\n",
              "              title=\"Convert this dataframe to an interactive table.\"\n",
              "              style=\"display:none;\">\n",
              "        \n",
              "  <svg xmlns=\"http://www.w3.org/2000/svg\" height=\"24px\"viewBox=\"0 0 24 24\"\n",
              "       width=\"24px\">\n",
              "    <path d=\"M0 0h24v24H0V0z\" fill=\"none\"/>\n",
              "    <path d=\"M18.56 5.44l.94 2.06.94-2.06 2.06-.94-2.06-.94-.94-2.06-.94 2.06-2.06.94zm-11 1L8.5 8.5l.94-2.06 2.06-.94-2.06-.94L8.5 2.5l-.94 2.06-2.06.94zm10 10l.94 2.06.94-2.06 2.06-.94-2.06-.94-.94-2.06-.94 2.06-2.06.94z\"/><path d=\"M17.41 7.96l-1.37-1.37c-.4-.4-.92-.59-1.43-.59-.52 0-1.04.2-1.43.59L10.3 9.45l-7.72 7.72c-.78.78-.78 2.05 0 2.83L4 21.41c.39.39.9.59 1.41.59.51 0 1.02-.2 1.41-.59l7.78-7.78 2.81-2.81c.8-.78.8-2.07 0-2.86zM5.41 20L4 18.59l7.72-7.72 1.47 1.35L5.41 20z\"/>\n",
              "  </svg>\n",
              "      </button>\n",
              "      \n",
              "  <style>\n",
              "    .colab-df-container {\n",
              "      display:flex;\n",
              "      flex-wrap:wrap;\n",
              "      gap: 12px;\n",
              "    }\n",
              "\n",
              "    .colab-df-convert {\n",
              "      background-color: #E8F0FE;\n",
              "      border: none;\n",
              "      border-radius: 50%;\n",
              "      cursor: pointer;\n",
              "      display: none;\n",
              "      fill: #1967D2;\n",
              "      height: 32px;\n",
              "      padding: 0 0 0 0;\n",
              "      width: 32px;\n",
              "    }\n",
              "\n",
              "    .colab-df-convert:hover {\n",
              "      background-color: #E2EBFA;\n",
              "      box-shadow: 0px 1px 2px rgba(60, 64, 67, 0.3), 0px 1px 3px 1px rgba(60, 64, 67, 0.15);\n",
              "      fill: #174EA6;\n",
              "    }\n",
              "\n",
              "    [theme=dark] .colab-df-convert {\n",
              "      background-color: #3B4455;\n",
              "      fill: #D2E3FC;\n",
              "    }\n",
              "\n",
              "    [theme=dark] .colab-df-convert:hover {\n",
              "      background-color: #434B5C;\n",
              "      box-shadow: 0px 1px 3px 1px rgba(0, 0, 0, 0.15);\n",
              "      filter: drop-shadow(0px 1px 2px rgba(0, 0, 0, 0.3));\n",
              "      fill: #FFFFFF;\n",
              "    }\n",
              "  </style>\n",
              "\n",
              "      <script>\n",
              "        const buttonEl =\n",
              "          document.querySelector('#df-e3108e1d-289b-4b01-a5b8-11592ec0c16c button.colab-df-convert');\n",
              "        buttonEl.style.display =\n",
              "          google.colab.kernel.accessAllowed ? 'block' : 'none';\n",
              "\n",
              "        async function convertToInteractive(key) {\n",
              "          const element = document.querySelector('#df-e3108e1d-289b-4b01-a5b8-11592ec0c16c');\n",
              "          const dataTable =\n",
              "            await google.colab.kernel.invokeFunction('convertToInteractive',\n",
              "                                                     [key], {});\n",
              "          if (!dataTable) return;\n",
              "\n",
              "          const docLinkHtml = 'Like what you see? Visit the ' +\n",
              "            '<a target=\"_blank\" href=https://colab.research.google.com/notebooks/data_table.ipynb>data table notebook</a>'\n",
              "            + ' to learn more about interactive tables.';\n",
              "          element.innerHTML = '';\n",
              "          dataTable['output_type'] = 'display_data';\n",
              "          await google.colab.output.renderOutput(dataTable, element);\n",
              "          const docLink = document.createElement('div');\n",
              "          docLink.innerHTML = docLinkHtml;\n",
              "          element.appendChild(docLink);\n",
              "        }\n",
              "      </script>\n",
              "    </div>\n",
              "  </div>\n",
              "  "
            ],
            "text/plain": [
              "year              2004  2005  2006  2007  2008  2009  2010  2011  2012  2013  \\\n",
              "strikes              1     3     2     4    36    54   122    70    48    26   \n",
              "total-killed-avg     7    15    94    62   274   532   802   486   281   139   \n",
              "\n",
              "year              2014  2015  2016  2017  2018  \n",
              "strikes             22    10     3     8     5  \n",
              "total-killed-avg   138    53     9    38    10  "
            ]
          },
          "execution_count": 19,
          "metadata": {},
          "output_type": "execute_result"
        }
      ],
      "source": [
        "df_year[['strikes','total-killed-avg']].sort_values(by='year').transpose()"
      ]
    },
    {
      "cell_type": "markdown",
      "metadata": {
        "id": "RwLgMDGUdBOC"
      },
      "source": [
        "It shows that from 2007 ownwards number of striked per year increased which resulted in increase of yearly casualteis. We'll visualize it in next Strikes section."
      ]
    },
    {
      "cell_type": "markdown",
      "metadata": {
        "id": "V080aKIJ2T8j"
      },
      "source": [
        "## e. Casualties by Organization. "
      ]
    },
    {
      "cell_type": "code",
      "execution_count": null,
      "metadata": {
        "id": "cLNIfl0aa73Z"
      },
      "outputs": [],
      "source": [
        "df_org = df\n",
        "df_org = df_org.groupby('target-organization', axis=0).sum()\n",
        "df_org['organization-killed-avg'] = df_org['militants-killed-avg'] + df_org['leaders-killed']\n",
        "\n",
        "df_org.sort_values(by=\"organization-killed-avg\",inplace=True,ascending=False)"
      ]
    },
    {
      "cell_type": "code",
      "execution_count": null,
      "metadata": {
        "colab": {
          "base_uri": "https://localhost:8080/",
          "height": 350
        },
        "id": "drgP84bs3AAe",
        "outputId": "99380e57-012b-4a45-bf7c-8e3754f74cfb"
      },
      "outputs": [
        {
          "data": {
            "image/png": "[encoded data removed]",
            "text/plain": [
              "<Figure size 1080x360 with 1 Axes>"
            ]
          },
          "metadata": {},
          "output_type": "display_data"
        }
      ],
      "source": [
        "plt.figure(figsize=(15, 5))\n",
        "plt.title('Casualties by Organization')\n",
        "\n",
        "colors_list = ['#0D549F' if (avg == 997 or avg == 350) else '#706F6F' for avg in df_org['organization-killed-avg']]\n",
        "colors_list[1] = '#9D9D9C'\n",
        "\n",
        "plots = sns.barplot(x = 'organization-killed-avg', y = [org.title() for org in list(df_org.index)], data = df_org, palette = colors_list)\n",
        "\n",
        "for p in plots.patches:\n",
        "    width, height = p.get_width(), p.get_height()\n",
        "    plt.text(30+width, p.get_y()+0.55*height, int(width), ha='center', va='center')\n",
        " \n",
        "plt.xlabel('Average Casualties by Organization')\n",
        "plt.ylabel('organizations')\n",
        "plt.show()"
      ]
    },
    {
      "cell_type": "markdown",
      "metadata": {
        "id": "WV4ss8T06c0R"
      },
      "source": [
        "The most casualteis belong to  **Taliban** and **Al-Qaeda**. While there's huge number which is **unknown**. "
      ]
    },
    {
      "cell_type": "markdown",
      "metadata": {
        "id": "IG54HQShAhvz"
      },
      "source": [
        "# 2) Strikes"
      ]
    },
    {
      "cell_type": "markdown",
      "metadata": {
        "id": "HygHbiX_Bk91"
      },
      "source": [
        "### a. Most targeted Regions."
      ]
    },
    {
      "cell_type": "code",
      "execution_count": null,
      "metadata": {
        "id": "4Xb17eDkHYNJ"
      },
      "outputs": [],
      "source": [
        "df_region.sort_values(by=\"strikes\",inplace=True,ascending=False)\n",
        "df_region2 = df_region[:2].copy()\n",
        "\n",
        "sum = pd.DataFrame(df_region.iloc[2:].sum())\n",
        "df_region2 = df_region2.append(sum.transpose())\n",
        "df_region2.astype(int)\n",
        "\n",
        "indexes = [index if strikes > 80 else 'others' for index,strikes in zip(df_region2.index, df_region2['strikes']) ]\n",
        "indexes = pd.Index(indexes)\n",
        "\n",
        "df_region2.set_index(indexes,inplace=True)"
      ]
    },
    {
      "cell_type": "code",
      "execution_count": null,
      "metadata": {
        "colab": {
          "base_uri": "https://localhost:8080/",
          "height": 412
        },
        "id": "PhpgLk_f5lL1",
        "outputId": "12b42433-fdba-4e63-cba5-7476d3626a52"
      },
      "outputs": [
        {
          "data": {
            "image/png": "[encoded data removed]",
            "text/plain": [
              "<Figure size 1080x432 with 1 Axes>"
            ]
          },
          "metadata": {},
          "output_type": "display_data"
        }
      ],
      "source": [
        "colors_list = ['#0D549F', '#DADADA', '#706F6F']\n",
        "explode_list = [0, 0, 0.1] \n",
        "\n",
        "plt.figure(figsize=(15, 6))\n",
        "\n",
        "plt.pie(df_region2['strikes'].values, labels=None, colors=colors_list,  autopct='%1.1f%%', startangle=90, pctdistance=1.12,explode = explode_list )\n",
        "\n",
        "plt.title('Most Targeted Regions', y=1.12) \n",
        "\n",
        "plt.axis('equal') \n",
        "plt.legend(labels=[region.title() for region in list(df_region2['strikes'].index)], loc='upper left') \n",
        "\n",
        "plt.show()"
      ]
    },
    {
      "cell_type": "markdown",
      "metadata": {
        "id": "UzBNaSnHafxK"
      },
      "source": [
        "The plot shows **North Wairistan** and **South Waziristan** were the regions were most targeted regions."
      ]
    },
    {
      "cell_type": "markdown",
      "metadata": {
        "id": "rCoue-Lkdmlt"
      },
      "source": [
        "### b. Strikes by Year."
      ]
    },
    {
      "cell_type": "code",
      "execution_count": null,
      "metadata": {
        "id": "phjWladZEUgK"
      },
      "outputs": [],
      "source": [
        "df_yearly_strikes = df[['year','strikes']]"
      ]
    },
    {
      "cell_type": "code",
      "execution_count": null,
      "metadata": {
        "colab": {
          "base_uri": "https://localhost:8080/",
          "height": 458
        },
        "id": "tEbmE_midkTs",
        "outputId": "c3014e55-0f97-447c-9a65-227e583bc93e"
      },
      "outputs": [
        {
          "data": {
            "image/png": "[encoded data removed]",
            "text/plain": [
              "<Figure size 792x504 with 1 Axes>"
            ]
          },
          "metadata": {},
          "output_type": "display_data"
        }
      ],
      "source": [
        "plt.figure(figsize=(11, 7))\n",
        "\n",
        "sns.histplot(df_yearly_strikes['year'], bins=14, discrete=True, color='#7390BF', edgecolor='#FFFFFF')\n",
        "\n",
        "plt.title('Total Drone strikes from 2004 to 2018')\n",
        "plt.xlabel('Year')\n",
        "plt.ylabel('Number of Strikes')\n",
        "\n",
        "plt.show()"
      ]
    },
    {
      "cell_type": "markdown",
      "metadata": {
        "id": "DTzWwli9jqu1"
      },
      "source": [
        "The pattern of yearly strikes is almost symmetrical to yearly casualties."
      ]
    }
  ],
  "metadata": {
    "colab": {
      "provenance": []
    },
    "gpuClass": "standard",
    "kernelspec": {
      "display_name": "Python 3",
      "name": "python3"
    },
    "language_info": {
      "name": "python"
    }
  },
  "nbformat": 4,
  "nbformat_minor": 0
}