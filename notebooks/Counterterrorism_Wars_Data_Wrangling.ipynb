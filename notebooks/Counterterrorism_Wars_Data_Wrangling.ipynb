{
  "nbformat": 4,
  "nbformat_minor": 0,
  "metadata": {
    "colab": {
      "provenance": []
    },
    "kernelspec": {
      "name": "python3",
      "display_name": "Python 3"
    },
    "language_info": {
      "name": "python"
    },
    "gpuClass": "standard"
  },
  "cells": [
    {
      "cell_type": "markdown",
      "source": [
        "Counterterrorism Wars - Drone Attacks in Pakistan"
      ],
      "metadata": {
        "id": "eDDxMJrlE5C9"
      }
    },
    {
      "cell_type": "markdown",
      "source": [
        "# Data Wrangling"
      ],
      "metadata": {
        "id": "Fa5O9mmLp3UN"
      }
    },
    {
      "cell_type": "markdown",
      "source": [
        "Objectives:\n",
        "* Clean Data\n",
        "* Format Data"
      ],
      "metadata": {
        "id": "N6OhmfQbp7TY"
      }
    },
    {
      "cell_type": "markdown",
      "source": [
        "###  Import Libraries"
      ],
      "metadata": {
        "id": "Y25XMQQRqDR7"
      }
    },
    {
      "cell_type": "code",
      "execution_count": null,
      "metadata": {
        "id": "TJUq6aGG6HQj"
      },
      "outputs": [],
      "source": [
        "import pandas as pd\n",
        "import numpy as np\n",
        "import matplotlib.pyplot as plt\n",
        "import numpy as np\n",
        "import seaborn as sns"
      ]
    },
    {
      "cell_type": "code",
      "source": [
        "from google.colab import drive\n",
        "drive.mount('/content/drive')"
      ],
      "metadata": {
        "colab": {
          "base_uri": "https://localhost:8080/"
        },
        "id": "yBohwo0Z78UX",
        "outputId": "85472d88-19e1-40f8-8a75-16ef310c4a58"
      },
      "execution_count": null,
      "outputs": [
        {
          "output_type": "stream",
          "name": "stdout",
          "text": [
            "Mounted at /content/drive\n"
          ]
        }
      ]
    },
    {
      "cell_type": "markdown",
      "source": [
        "## 1) Load Data"
      ],
      "metadata": {
        "id": "KAnEKZK5qGro"
      }
    },
    {
      "cell_type": "code",
      "source": [
        "df=pd.read_csv('/content/drive/My Drive/Data Science/drone_attacks.csv', parse_dates=True, )"
      ],
      "metadata": {
        "id": "D_fM4dd08SQI"
      },
      "execution_count": null,
      "outputs": []
    },
    {
      "cell_type": "code",
      "source": [
        "df.head(3)"
      ],
      "metadata": {
        "colab": {
          "base_uri": "https://localhost:8080/",
          "height": 337
        },
        "id": "CmrU2JPx8gjh",
        "outputId": "0385c57d-f20e-4658-a9bd-7465942f2ccb"
      },
      "execution_count": null,
      "outputs": [
        {
          "output_type": "execute_result",
          "data": {
            "text/plain": [
              "   strikes       date            village            region  year  \\\n",
              "0        1  6/19/2004               Wana  South Waziristan  2004   \n",
              "1        1   5/8/2005  Toorikhel, Mirali  North Waziristan  2005   \n",
              "2        1  11/5/2005            Haisori  North Waziristan  2005   \n",
              "\n",
              "   leaders_killed       leader_names           leader_description  \\\n",
              "0             1.0       Nek Muhammad           Commander, Taliban   \n",
              "1             1.0  Haitham al-Yemeni  Explosives expert, al Qaeda   \n",
              "2             0.0                NaN                          NaN   \n",
              "\n",
              "   militants_low  militants_high  ...    geo_lon  \\\n",
              "0            1.0             1.0  ...  69.565430   \n",
              "1            2.0             2.0  ...  70.261345   \n",
              "2            0.0             0.0  ...  70.043335   \n",
              "\n",
              "                              province  strike_type  \\\n",
              "0  Federally Administered Tribal Areas          NaN   \n",
              "1  Federally Administered Tribal Areas          NaN   \n",
              "2  Federally Administered Tribal Areas          NaN   \n",
              "\n",
              "                      Source  Source.1        Source.2  Source.3  Source.4  \\\n",
              "0             New York Times       CNN  New York Times       NaN       NaN   \n",
              "1            Washington Post       NBC             NaN       NaN       NaN   \n",
              "2  Christian Science Monitor       CNN             NaN       NaN       NaN   \n",
              "\n",
              "   Source.5  Source.6  \n",
              "0       NaN       NaN  \n",
              "1       NaN       NaN  \n",
              "2       NaN       NaN  \n",
              "\n",
              "[3 rows x 37 columns]"
            ],
            "text/html": [
              "\n",
              "  <div id=\"df-e4532f21-a676-41f2-a5d0-ed43a3266294\">\n",
              "    <div class=\"colab-df-container\">\n",
              "      <div>\n",
              "<style scoped>\n",
              "    .dataframe tbody tr th:only-of-type {\n",
              "        vertical-align: middle;\n",
              "    }\n",
              "\n",
              "    .dataframe tbody tr th {\n",
              "        vertical-align: top;\n",
              "    }\n",
              "\n",
              "    .dataframe thead th {\n",
              "        text-align: right;\n",
              "    }\n",
              "</style>\n",
              "<table border=\"1\" class=\"dataframe\">\n",
              "  <thead>\n",
              "    <tr style=\"text-align: right;\">\n",
              "      <th></th>\n",
              "      <th>strikes</th>\n",
              "      <th>date</th>\n",
              "      <th>village</th>\n",
              "      <th>region</th>\n",
              "      <th>year</th>\n",
              "      <th>leaders_killed</th>\n",
              "      <th>leader_names</th>\n",
              "      <th>leader_description</th>\n",
              "      <th>militants_low</th>\n",
              "      <th>militants_high</th>\n",
              "      <th>...</th>\n",
              "      <th>geo_lon</th>\n",
              "      <th>province</th>\n",
              "      <th>strike_type</th>\n",
              "      <th>Source</th>\n",
              "      <th>Source.1</th>\n",
              "      <th>Source.2</th>\n",
              "      <th>Source.3</th>\n",
              "      <th>Source.4</th>\n",
              "      <th>Source.5</th>\n",
              "      <th>Source.6</th>\n",
              "    </tr>\n",
              "  </thead>\n",
              "  <tbody>\n",
              "    <tr>\n",
              "      <th>0</th>\n",
              "      <td>1</td>\n",
              "      <td>6/19/2004</td>\n",
              "      <td>Wana</td>\n",
              "      <td>South Waziristan</td>\n",
              "      <td>2004</td>\n",
              "      <td>1.0</td>\n",
              "      <td>Nek Muhammad</td>\n",
              "      <td>Commander, Taliban</td>\n",
              "      <td>1.0</td>\n",
              "      <td>1.0</td>\n",
              "      <td>...</td>\n",
              "      <td>69.565430</td>\n",
              "      <td>Federally Administered Tribal Areas</td>\n",
              "      <td>NaN</td>\n",
              "      <td>New York Times</td>\n",
              "      <td>CNN</td>\n",
              "      <td>New York Times</td>\n",
              "      <td>NaN</td>\n",
              "      <td>NaN</td>\n",
              "      <td>NaN</td>\n",
              "      <td>NaN</td>\n",
              "    </tr>\n",
              "    <tr>\n",
              "      <th>1</th>\n",
              "      <td>1</td>\n",
              "      <td>5/8/2005</td>\n",
              "      <td>Toorikhel, Mirali</td>\n",
              "      <td>North Waziristan</td>\n",
              "      <td>2005</td>\n",
              "      <td>1.0</td>\n",
              "      <td>Haitham al-Yemeni</td>\n",
              "      <td>Explosives expert, al Qaeda</td>\n",
              "      <td>2.0</td>\n",
              "      <td>2.0</td>\n",
              "      <td>...</td>\n",
              "      <td>70.261345</td>\n",
              "      <td>Federally Administered Tribal Areas</td>\n",
              "      <td>NaN</td>\n",
              "      <td>Washington Post</td>\n",
              "      <td>NBC</td>\n",
              "      <td>NaN</td>\n",
              "      <td>NaN</td>\n",
              "      <td>NaN</td>\n",
              "      <td>NaN</td>\n",
              "      <td>NaN</td>\n",
              "    </tr>\n",
              "    <tr>\n",
              "      <th>2</th>\n",
              "      <td>1</td>\n",
              "      <td>11/5/2005</td>\n",
              "      <td>Haisori</td>\n",
              "      <td>North Waziristan</td>\n",
              "      <td>2005</td>\n",
              "      <td>0.0</td>\n",
              "      <td>NaN</td>\n",
              "      <td>NaN</td>\n",
              "      <td>0.0</td>\n",
              "      <td>0.0</td>\n",
              "      <td>...</td>\n",
              "      <td>70.043335</td>\n",
              "      <td>Federally Administered Tribal Areas</td>\n",
              "      <td>NaN</td>\n",
              "      <td>Christian Science Monitor</td>\n",
              "      <td>CNN</td>\n",
              "      <td>NaN</td>\n",
              "      <td>NaN</td>\n",
              "      <td>NaN</td>\n",
              "      <td>NaN</td>\n",
              "      <td>NaN</td>\n",
              "    </tr>\n",
              "  </tbody>\n",
              "</table>\n",
              "<p>3 rows × 37 columns</p>\n",
              "</div>\n",
              "      <button class=\"colab-df-convert\" onclick=\"convertToInteractive('df-e4532f21-a676-41f2-a5d0-ed43a3266294')\"\n",
              "              title=\"Convert this dataframe to an interactive table.\"\n",
              "              style=\"display:none;\">\n",
              "        \n",
              "  <svg xmlns=\"http://www.w3.org/2000/svg\" height=\"24px\"viewBox=\"0 0 24 24\"\n",
              "       width=\"24px\">\n",
              "    <path d=\"M0 0h24v24H0V0z\" fill=\"none\"/>\n",
              "    <path d=\"M18.56 5.44l.94 2.06.94-2.06 2.06-.94-2.06-.94-.94-2.06-.94 2.06-2.06.94zm-11 1L8.5 8.5l.94-2.06 2.06-.94-2.06-.94L8.5 2.5l-.94 2.06-2.06.94zm10 10l.94 2.06.94-2.06 2.06-.94-2.06-.94-.94-2.06-.94 2.06-2.06.94z\"/><path d=\"M17.41 7.96l-1.37-1.37c-.4-.4-.92-.59-1.43-.59-.52 0-1.04.2-1.43.59L10.3 9.45l-7.72 7.72c-.78.78-.78 2.05 0 2.83L4 21.41c.39.39.9.59 1.41.59.51 0 1.02-.2 1.41-.59l7.78-7.78 2.81-2.81c.8-.78.8-2.07 0-2.86zM5.41 20L4 18.59l7.72-7.72 1.47 1.35L5.41 20z\"/>\n",
              "  </svg>\n",
              "      </button>\n",
              "      \n",
              "  <style>\n",
              "    .colab-df-container {\n",
              "      display:flex;\n",
              "      flex-wrap:wrap;\n",
              "      gap: 12px;\n",
              "    }\n",
              "\n",
              "    .colab-df-convert {\n",
              "      background-color: #E8F0FE;\n",
              "      border: none;\n",
              "      border-radius: 50%;\n",
              "      cursor: pointer;\n",
              "      display: none;\n",
              "      fill: #1967D2;\n",
              "      height: 32px;\n",
              "      padding: 0 0 0 0;\n",
              "      width: 32px;\n",
              "    }\n",
              "\n",
              "    .colab-df-convert:hover {\n",
              "      background-color: #E2EBFA;\n",
              "      box-shadow: 0px 1px 2px rgba(60, 64, 67, 0.3), 0px 1px 3px 1px rgba(60, 64, 67, 0.15);\n",
              "      fill: #174EA6;\n",
              "    }\n",
              "\n",
              "    [theme=dark] .colab-df-convert {\n",
              "      background-color: #3B4455;\n",
              "      fill: #D2E3FC;\n",
              "    }\n",
              "\n",
              "    [theme=dark] .colab-df-convert:hover {\n",
              "      background-color: #434B5C;\n",
              "      box-shadow: 0px 1px 3px 1px rgba(0, 0, 0, 0.15);\n",
              "      filter: drop-shadow(0px 1px 2px rgba(0, 0, 0, 0.3));\n",
              "      fill: #FFFFFF;\n",
              "    }\n",
              "  </style>\n",
              "\n",
              "      <script>\n",
              "        const buttonEl =\n",
              "          document.querySelector('#df-e4532f21-a676-41f2-a5d0-ed43a3266294 button.colab-df-convert');\n",
              "        buttonEl.style.display =\n",
              "          google.colab.kernel.accessAllowed ? 'block' : 'none';\n",
              "\n",
              "        async function convertToInteractive(key) {\n",
              "          const element = document.querySelector('#df-e4532f21-a676-41f2-a5d0-ed43a3266294');\n",
              "          const dataTable =\n",
              "            await google.colab.kernel.invokeFunction('convertToInteractive',\n",
              "                                                     [key], {});\n",
              "          if (!dataTable) return;\n",
              "\n",
              "          const docLinkHtml = 'Like what you see? Visit the ' +\n",
              "            '<a target=\"_blank\" href=https://colab.research.google.com/notebooks/data_table.ipynb>data table notebook</a>'\n",
              "            + ' to learn more about interactive tables.';\n",
              "          element.innerHTML = '';\n",
              "          dataTable['output_type'] = 'display_data';\n",
              "          await google.colab.output.renderOutput(dataTable, element);\n",
              "          const docLink = document.createElement('div');\n",
              "          docLink.innerHTML = docLinkHtml;\n",
              "          element.appendChild(docLink);\n",
              "        }\n",
              "      </script>\n",
              "    </div>\n",
              "  </div>\n",
              "  "
            ]
          },
          "metadata": {},
          "execution_count": 4
        }
      ]
    },
    {
      "cell_type": "markdown",
      "source": [
        "## 2) Explore Data"
      ],
      "metadata": {
        "id": "cOA5V_aq_Qw9"
      }
    },
    {
      "cell_type": "markdown",
      "source": [
        "Number of Rows and Columns in Dataset."
      ],
      "metadata": {
        "id": "n5eNGPO4qeLi"
      }
    },
    {
      "cell_type": "code",
      "source": [
        "df.shape"
      ],
      "metadata": {
        "colab": {
          "base_uri": "https://localhost:8080/"
        },
        "id": "lSMP5Lu__TG8",
        "outputId": "c183ea1e-b846-42e6-9836-ce9517414258"
      },
      "execution_count": null,
      "outputs": [
        {
          "output_type": "execute_result",
          "data": {
            "text/plain": [
              "(414, 37)"
            ]
          },
          "metadata": {},
          "execution_count": 5
        }
      ]
    },
    {
      "cell_type": "markdown",
      "source": [
        "Number of values and Type of each Column"
      ],
      "metadata": {
        "id": "H-p3GgO7qykz"
      }
    },
    {
      "cell_type": "code",
      "source": [
        "df.info()"
      ],
      "metadata": {
        "colab": {
          "base_uri": "https://localhost:8080/"
        },
        "id": "dGMEOf4I8iYq",
        "outputId": "9f1a65dc-a5fe-4f9e-cdd6-12ec80b60bc6"
      },
      "execution_count": null,
      "outputs": [
        {
          "output_type": "stream",
          "name": "stdout",
          "text": [
            "<class 'pandas.core.frame.DataFrame'>\n",
            "RangeIndex: 414 entries, 0 to 413\n",
            "Data columns (total 37 columns):\n",
            " #   Column                    Non-Null Count  Dtype  \n",
            "---  ------                    --------------  -----  \n",
            " 0   strikes                   414 non-null    int64  \n",
            " 1   date                      414 non-null    object \n",
            " 2   village                   414 non-null    object \n",
            " 3   region                    414 non-null    object \n",
            " 4   year                      414 non-null    int64  \n",
            " 5   leaders_killed            253 non-null    float64\n",
            " 6   leader_names              75 non-null     object \n",
            " 7   leader_description        75 non-null     object \n",
            " 8   militants_low             412 non-null    float64\n",
            " 9   militants_high            412 non-null    float64\n",
            " 10  militants_avg             412 non-null    float64\n",
            " 11  unknown_low               86 non-null     float64\n",
            " 12  unknown_high              85 non-null     float64\n",
            " 13  unknown_avg               86 non-null     float64\n",
            " 14  civilians_low             68 non-null     float64\n",
            " 15  civilians_high            68 non-null     float64\n",
            " 16  civilians_avg             68 non-null     float64\n",
            " 17  total_low                 414 non-null    int64  \n",
            " 18  total_high                414 non-null    int64  \n",
            " 19  total_avg                 414 non-null    float64\n",
            " 20  president_name            414 non-null    object \n",
            " 21  president_number          414 non-null    int64  \n",
            " 22  target_type               414 non-null    object \n",
            " 23  target_description        124 non-null    object \n",
            " 24  target_organization_name  413 non-null    object \n",
            " 25  target_group              413 non-null    object \n",
            " 26  geo_lat                   414 non-null    float64\n",
            " 27  geo_lon                   414 non-null    float64\n",
            " 28  province                  404 non-null    object \n",
            " 29  strike_type               26 non-null     object \n",
            " 30  Source                    393 non-null    object \n",
            " 31  Source.1                  376 non-null    object \n",
            " 32  Source.2                  302 non-null    object \n",
            " 33  Source.3                  184 non-null    object \n",
            " 34  Source.4                  66 non-null     object \n",
            " 35  Source.5                  37 non-null     object \n",
            " 36  Source.6                  19 non-null     object \n",
            "dtypes: float64(13), int64(5), object(19)\n",
            "memory usage: 119.8+ KB\n"
          ]
        }
      ]
    },
    {
      "cell_type": "markdown",
      "source": [
        "Drop Columns which are irrelevant in Analysis Process."
      ],
      "metadata": {
        "id": "GnHIDnnwq8ab"
      }
    },
    {
      "cell_type": "code",
      "source": [
        "df.drop(columns=['Source', 'Source.1', 'Source.2', 'Source.3', 'Source.4', 'Source.5', 'Source.6','strike_type','target_description','president_number'],inplace=True)"
      ],
      "metadata": {
        "id": "Wz74r2OZ_2fn"
      },
      "execution_count": null,
      "outputs": []
    },
    {
      "cell_type": "markdown",
      "source": [
        "## 3) Dealing with Missing values"
      ],
      "metadata": {
        "id": "L6FojXt6ChMs"
      }
    },
    {
      "cell_type": "markdown",
      "source": [
        "Check total number of missing values in each column"
      ],
      "metadata": {
        "id": "22sIkTy2r1K0"
      }
    },
    {
      "cell_type": "code",
      "source": [
        "df.isnull().sum()"
      ],
      "metadata": {
        "colab": {
          "base_uri": "https://localhost:8080/"
        },
        "id": "_yHjAKiuCePw",
        "outputId": "e241902c-4637-4b80-be39-eb0398da085f"
      },
      "execution_count": null,
      "outputs": [
        {
          "output_type": "execute_result",
          "data": {
            "text/plain": [
              "strikes                       0\n",
              "date                          0\n",
              "village                       0\n",
              "region                        0\n",
              "year                          0\n",
              "leaders_killed              161\n",
              "leader_names                339\n",
              "leader_description          339\n",
              "militants_low                 2\n",
              "militants_high                2\n",
              "militants_avg                 2\n",
              "unknown_low                 328\n",
              "unknown_high                329\n",
              "unknown_avg                 328\n",
              "civilians_low               346\n",
              "civilians_high              346\n",
              "civilians_avg               346\n",
              "total_low                     0\n",
              "total_high                    0\n",
              "total_avg                     0\n",
              "president_name                0\n",
              "target_type                   0\n",
              "target_organization_name      1\n",
              "target_group                  1\n",
              "geo_lat                       0\n",
              "geo_lon                       0\n",
              "province                     10\n",
              "dtype: int64"
            ]
          },
          "metadata": {},
          "execution_count": 8
        }
      ]
    },
    {
      "cell_type": "markdown",
      "source": [
        "At this phase we have to ask ourself a question.\n",
        "- Which of the values are missing because they don't exist? \n",
        "- Which of the values are missing because they weren't recorded?  \n",
        "\n",
        "\n",
        "Based on answer of above question, we'll deal with missing values."
      ],
      "metadata": {
        "id": "Lvq9WZq_s8yq"
      }
    },
    {
      "cell_type": "markdown",
      "source": [
        "### a) Province"
      ],
      "metadata": {
        "id": "kz-1Qb5RJhSX"
      }
    },
    {
      "cell_type": "markdown",
      "source": [
        "Let's have a look at rows where ***province*** has missing value."
      ],
      "metadata": {
        "id": "BQQYD8aIsAEw"
      }
    },
    {
      "cell_type": "code",
      "source": [
        "df[df['province'].isnull()][['province','region','village','geo_lat','geo_lon']]"
      ],
      "metadata": {
        "colab": {
          "base_uri": "https://localhost:8080/",
          "height": 359
        },
        "id": "3ntmzvXwC5Wf",
        "outputId": "7b56bac8-8402-46a4-9536-fa3414f654d5"
      },
      "execution_count": null,
      "outputs": [
        {
          "output_type": "execute_result",
          "data": {
            "text/plain": [
              "    province                               region  \\\n",
              "391      NaN  Federally Administered Tribal Areas   \n",
              "392      NaN                     North Waziristan   \n",
              "393      NaN                     North Waziristan   \n",
              "394      NaN                     North Waziristan   \n",
              "395      NaN                     North Waziristan   \n",
              "396      NaN                     North Waziristan   \n",
              "397      NaN                     North Waziristan   \n",
              "398      NaN                     North Waziristan   \n",
              "399      NaN                               Kurram   \n",
              "400      NaN                          Balochistan   \n",
              "\n",
              "                             village    geo_lat    geo_lon  \n",
              "391  Shawal Valley, North Waziristan  32.615148  69.510230  \n",
              "392                           Shawal  32.614715  69.499587  \n",
              "393                           Shawal  32.614715  69.499587  \n",
              "394                           Shawal  32.616920  69.499930  \n",
              "395                           Shawal  32.616920  69.499930  \n",
              "396                       Datta Khel  32.905929  69.748292  \n",
              "397                       Datta Khel  32.905614  69.748292  \n",
              "398                        Mangrooti  32.704161  69.467315  \n",
              "399                  Shahidano Dhand  33.665697  70.628474  \n",
              "400                      Dahl Bandin  28.948282  64.271875  "
            ],
            "text/html": [
              "\n",
              "  <div id=\"df-552c6313-5bc6-4466-b05c-e8829a2bacd3\">\n",
              "    <div class=\"colab-df-container\">\n",
              "      <div>\n",
              "<style scoped>\n",
              "    .dataframe tbody tr th:only-of-type {\n",
              "        vertical-align: middle;\n",
              "    }\n",
              "\n",
              "    .dataframe tbody tr th {\n",
              "        vertical-align: top;\n",
              "    }\n",
              "\n",
              "    .dataframe thead th {\n",
              "        text-align: right;\n",
              "    }\n",
              "</style>\n",
              "<table border=\"1\" class=\"dataframe\">\n",
              "  <thead>\n",
              "    <tr style=\"text-align: right;\">\n",
              "      <th></th>\n",
              "      <th>province</th>\n",
              "      <th>region</th>\n",
              "      <th>village</th>\n",
              "      <th>geo_lat</th>\n",
              "      <th>geo_lon</th>\n",
              "    </tr>\n",
              "  </thead>\n",
              "  <tbody>\n",
              "    <tr>\n",
              "      <th>391</th>\n",
              "      <td>NaN</td>\n",
              "      <td>Federally Administered Tribal Areas</td>\n",
              "      <td>Shawal Valley, North Waziristan</td>\n",
              "      <td>32.615148</td>\n",
              "      <td>69.510230</td>\n",
              "    </tr>\n",
              "    <tr>\n",
              "      <th>392</th>\n",
              "      <td>NaN</td>\n",
              "      <td>North Waziristan</td>\n",
              "      <td>Shawal</td>\n",
              "      <td>32.614715</td>\n",
              "      <td>69.499587</td>\n",
              "    </tr>\n",
              "    <tr>\n",
              "      <th>393</th>\n",
              "      <td>NaN</td>\n",
              "      <td>North Waziristan</td>\n",
              "      <td>Shawal</td>\n",
              "      <td>32.614715</td>\n",
              "      <td>69.499587</td>\n",
              "    </tr>\n",
              "    <tr>\n",
              "      <th>394</th>\n",
              "      <td>NaN</td>\n",
              "      <td>North Waziristan</td>\n",
              "      <td>Shawal</td>\n",
              "      <td>32.616920</td>\n",
              "      <td>69.499930</td>\n",
              "    </tr>\n",
              "    <tr>\n",
              "      <th>395</th>\n",
              "      <td>NaN</td>\n",
              "      <td>North Waziristan</td>\n",
              "      <td>Shawal</td>\n",
              "      <td>32.616920</td>\n",
              "      <td>69.499930</td>\n",
              "    </tr>\n",
              "    <tr>\n",
              "      <th>396</th>\n",
              "      <td>NaN</td>\n",
              "      <td>North Waziristan</td>\n",
              "      <td>Datta Khel</td>\n",
              "      <td>32.905929</td>\n",
              "      <td>69.748292</td>\n",
              "    </tr>\n",
              "    <tr>\n",
              "      <th>397</th>\n",
              "      <td>NaN</td>\n",
              "      <td>North Waziristan</td>\n",
              "      <td>Datta Khel</td>\n",
              "      <td>32.905614</td>\n",
              "      <td>69.748292</td>\n",
              "    </tr>\n",
              "    <tr>\n",
              "      <th>398</th>\n",
              "      <td>NaN</td>\n",
              "      <td>North Waziristan</td>\n",
              "      <td>Mangrooti</td>\n",
              "      <td>32.704161</td>\n",
              "      <td>69.467315</td>\n",
              "    </tr>\n",
              "    <tr>\n",
              "      <th>399</th>\n",
              "      <td>NaN</td>\n",
              "      <td>Kurram</td>\n",
              "      <td>Shahidano Dhand</td>\n",
              "      <td>33.665697</td>\n",
              "      <td>70.628474</td>\n",
              "    </tr>\n",
              "    <tr>\n",
              "      <th>400</th>\n",
              "      <td>NaN</td>\n",
              "      <td>Balochistan</td>\n",
              "      <td>Dahl Bandin</td>\n",
              "      <td>28.948282</td>\n",
              "      <td>64.271875</td>\n",
              "    </tr>\n",
              "  </tbody>\n",
              "</table>\n",
              "</div>\n",
              "      <button class=\"colab-df-convert\" onclick=\"convertToInteractive('df-552c6313-5bc6-4466-b05c-e8829a2bacd3')\"\n",
              "              title=\"Convert this dataframe to an interactive table.\"\n",
              "              style=\"display:none;\">\n",
              "        \n",
              "  <svg xmlns=\"http://www.w3.org/2000/svg\" height=\"24px\"viewBox=\"0 0 24 24\"\n",
              "       width=\"24px\">\n",
              "    <path d=\"M0 0h24v24H0V0z\" fill=\"none\"/>\n",
              "    <path d=\"M18.56 5.44l.94 2.06.94-2.06 2.06-.94-2.06-.94-.94-2.06-.94 2.06-2.06.94zm-11 1L8.5 8.5l.94-2.06 2.06-.94-2.06-.94L8.5 2.5l-.94 2.06-2.06.94zm10 10l.94 2.06.94-2.06 2.06-.94-2.06-.94-.94-2.06-.94 2.06-2.06.94z\"/><path d=\"M17.41 7.96l-1.37-1.37c-.4-.4-.92-.59-1.43-.59-.52 0-1.04.2-1.43.59L10.3 9.45l-7.72 7.72c-.78.78-.78 2.05 0 2.83L4 21.41c.39.39.9.59 1.41.59.51 0 1.02-.2 1.41-.59l7.78-7.78 2.81-2.81c.8-.78.8-2.07 0-2.86zM5.41 20L4 18.59l7.72-7.72 1.47 1.35L5.41 20z\"/>\n",
              "  </svg>\n",
              "      </button>\n",
              "      \n",
              "  <style>\n",
              "    .colab-df-container {\n",
              "      display:flex;\n",
              "      flex-wrap:wrap;\n",
              "      gap: 12px;\n",
              "    }\n",
              "\n",
              "    .colab-df-convert {\n",
              "      background-color: #E8F0FE;\n",
              "      border: none;\n",
              "      border-radius: 50%;\n",
              "      cursor: pointer;\n",
              "      display: none;\n",
              "      fill: #1967D2;\n",
              "      height: 32px;\n",
              "      padding: 0 0 0 0;\n",
              "      width: 32px;\n",
              "    }\n",
              "\n",
              "    .colab-df-convert:hover {\n",
              "      background-color: #E2EBFA;\n",
              "      box-shadow: 0px 1px 2px rgba(60, 64, 67, 0.3), 0px 1px 3px 1px rgba(60, 64, 67, 0.15);\n",
              "      fill: #174EA6;\n",
              "    }\n",
              "\n",
              "    [theme=dark] .colab-df-convert {\n",
              "      background-color: #3B4455;\n",
              "      fill: #D2E3FC;\n",
              "    }\n",
              "\n",
              "    [theme=dark] .colab-df-convert:hover {\n",
              "      background-color: #434B5C;\n",
              "      box-shadow: 0px 1px 3px 1px rgba(0, 0, 0, 0.15);\n",
              "      filter: drop-shadow(0px 1px 2px rgba(0, 0, 0, 0.3));\n",
              "      fill: #FFFFFF;\n",
              "    }\n",
              "  </style>\n",
              "\n",
              "      <script>\n",
              "        const buttonEl =\n",
              "          document.querySelector('#df-552c6313-5bc6-4466-b05c-e8829a2bacd3 button.colab-df-convert');\n",
              "        buttonEl.style.display =\n",
              "          google.colab.kernel.accessAllowed ? 'block' : 'none';\n",
              "\n",
              "        async function convertToInteractive(key) {\n",
              "          const element = document.querySelector('#df-552c6313-5bc6-4466-b05c-e8829a2bacd3');\n",
              "          const dataTable =\n",
              "            await google.colab.kernel.invokeFunction('convertToInteractive',\n",
              "                                                     [key], {});\n",
              "          if (!dataTable) return;\n",
              "\n",
              "          const docLinkHtml = 'Like what you see? Visit the ' +\n",
              "            '<a target=\"_blank\" href=https://colab.research.google.com/notebooks/data_table.ipynb>data table notebook</a>'\n",
              "            + ' to learn more about interactive tables.';\n",
              "          element.innerHTML = '';\n",
              "          dataTable['output_type'] = 'display_data';\n",
              "          await google.colab.output.renderOutput(dataTable, element);\n",
              "          const docLink = document.createElement('div');\n",
              "          docLink.innerHTML = docLinkHtml;\n",
              "          element.appendChild(docLink);\n",
              "        }\n",
              "      </script>\n",
              "    </div>\n",
              "  </div>\n",
              "  "
            ]
          },
          "metadata": {},
          "execution_count": 9
        }
      ]
    },
    {
      "cell_type": "markdown",
      "source": [
        "By observing Data it can be seen that values are missing because they weren't recorded. \n",
        "\n",
        "We can find out missing values for province by looking at region and village column.\n",
        "\n"
      ],
      "metadata": {
        "id": "BBk0mJr4uVvW"
      }
    },
    {
      "cell_type": "code",
      "source": [
        "indices_fata=[391,392,393,394,395,396,397,398,399]\n",
        "df.loc[indices_fata,'province'] = \"federally administered tribal areas\""
      ],
      "metadata": {
        "id": "DjVTIkPiFFyX"
      },
      "execution_count": null,
      "outputs": []
    },
    {
      "cell_type": "code",
      "source": [
        "indices_balochistan = [400]\n",
        "df.loc[indices_balochistan,'province'] = \"balochistan\""
      ],
      "metadata": {
        "id": "mg7s6zX8FqcL"
      },
      "execution_count": null,
      "outputs": []
    },
    {
      "cell_type": "code",
      "source": [
        "df['province'].isnull().sum()"
      ],
      "metadata": {
        "colab": {
          "base_uri": "https://localhost:8080/"
        },
        "id": "Sof0cz0aHlyG",
        "outputId": "c8ccae82-17a3-4e8e-a5cd-c76b00c29130"
      },
      "execution_count": null,
      "outputs": [
        {
          "output_type": "execute_result",
          "data": {
            "text/plain": [
              "0"
            ]
          },
          "metadata": {},
          "execution_count": 12
        }
      ]
    },
    {
      "cell_type": "markdown",
      "source": [
        "### b) leaders_killed, leader_names and leader_description"
      ],
      "metadata": {
        "id": "-51-BlO-KVPM"
      }
    },
    {
      "cell_type": "markdown",
      "source": [
        "If values in ***leaders_killed, 'leader_names' or 'leader_description'*** are missing it means none of the leaders was killed in this strike.\n",
        "\n",
        "Values are missing because they don't exist."
      ],
      "metadata": {
        "id": "LdrbREmewKD3"
      }
    },
    {
      "cell_type": "markdown",
      "source": [
        "show rows having null values for leaders killed."
      ],
      "metadata": {
        "id": "3ICDHpJGxFdw"
      }
    },
    {
      "cell_type": "code",
      "source": [
        "df[df['leaders_killed'].isnull()][['leaders_killed','leader_names','leader_description']]"
      ],
      "metadata": {
        "colab": {
          "base_uri": "https://localhost:8080/",
          "height": 419
        },
        "id": "OSb8yU7vN9-M",
        "outputId": "5b7e7859-b02d-4b35-ce5e-38bdac87a08c"
      },
      "execution_count": null,
      "outputs": [
        {
          "output_type": "execute_result",
          "data": {
            "text/plain": [
              "     leaders_killed leader_names leader_description\n",
              "5               NaN          NaN                NaN\n",
              "44              NaN          NaN                NaN\n",
              "215             NaN          NaN                NaN\n",
              "216             NaN          NaN                NaN\n",
              "217             NaN          NaN                NaN\n",
              "..              ...          ...                ...\n",
              "394             NaN          NaN                NaN\n",
              "395             NaN          NaN                NaN\n",
              "396             NaN          NaN                NaN\n",
              "397             NaN          NaN                NaN\n",
              "399             NaN          NaN                NaN\n",
              "\n",
              "[161 rows x 3 columns]"
            ],
            "text/html": [
              "\n",
              "  <div id=\"df-b6117c56-360c-47c3-9ead-196bb36a45c6\">\n",
              "    <div class=\"colab-df-container\">\n",
              "      <div>\n",
              "<style scoped>\n",
              "    .dataframe tbody tr th:only-of-type {\n",
              "        vertical-align: middle;\n",
              "    }\n",
              "\n",
              "    .dataframe tbody tr th {\n",
              "        vertical-align: top;\n",
              "    }\n",
              "\n",
              "    .dataframe thead th {\n",
              "        text-align: right;\n",
              "    }\n",
              "</style>\n",
              "<table border=\"1\" class=\"dataframe\">\n",
              "  <thead>\n",
              "    <tr style=\"text-align: right;\">\n",
              "      <th></th>\n",
              "      <th>leaders_killed</th>\n",
              "      <th>leader_names</th>\n",
              "      <th>leader_description</th>\n",
              "    </tr>\n",
              "  </thead>\n",
              "  <tbody>\n",
              "    <tr>\n",
              "      <th>5</th>\n",
              "      <td>NaN</td>\n",
              "      <td>NaN</td>\n",
              "      <td>NaN</td>\n",
              "    </tr>\n",
              "    <tr>\n",
              "      <th>44</th>\n",
              "      <td>NaN</td>\n",
              "      <td>NaN</td>\n",
              "      <td>NaN</td>\n",
              "    </tr>\n",
              "    <tr>\n",
              "      <th>215</th>\n",
              "      <td>NaN</td>\n",
              "      <td>NaN</td>\n",
              "      <td>NaN</td>\n",
              "    </tr>\n",
              "    <tr>\n",
              "      <th>216</th>\n",
              "      <td>NaN</td>\n",
              "      <td>NaN</td>\n",
              "      <td>NaN</td>\n",
              "    </tr>\n",
              "    <tr>\n",
              "      <th>217</th>\n",
              "      <td>NaN</td>\n",
              "      <td>NaN</td>\n",
              "      <td>NaN</td>\n",
              "    </tr>\n",
              "    <tr>\n",
              "      <th>...</th>\n",
              "      <td>...</td>\n",
              "      <td>...</td>\n",
              "      <td>...</td>\n",
              "    </tr>\n",
              "    <tr>\n",
              "      <th>394</th>\n",
              "      <td>NaN</td>\n",
              "      <td>NaN</td>\n",
              "      <td>NaN</td>\n",
              "    </tr>\n",
              "    <tr>\n",
              "      <th>395</th>\n",
              "      <td>NaN</td>\n",
              "      <td>NaN</td>\n",
              "      <td>NaN</td>\n",
              "    </tr>\n",
              "    <tr>\n",
              "      <th>396</th>\n",
              "      <td>NaN</td>\n",
              "      <td>NaN</td>\n",
              "      <td>NaN</td>\n",
              "    </tr>\n",
              "    <tr>\n",
              "      <th>397</th>\n",
              "      <td>NaN</td>\n",
              "      <td>NaN</td>\n",
              "      <td>NaN</td>\n",
              "    </tr>\n",
              "    <tr>\n",
              "      <th>399</th>\n",
              "      <td>NaN</td>\n",
              "      <td>NaN</td>\n",
              "      <td>NaN</td>\n",
              "    </tr>\n",
              "  </tbody>\n",
              "</table>\n",
              "<p>161 rows × 3 columns</p>\n",
              "</div>\n",
              "      <button class=\"colab-df-convert\" onclick=\"convertToInteractive('df-b6117c56-360c-47c3-9ead-196bb36a45c6')\"\n",
              "              title=\"Convert this dataframe to an interactive table.\"\n",
              "              style=\"display:none;\">\n",
              "        \n",
              "  <svg xmlns=\"http://www.w3.org/2000/svg\" height=\"24px\"viewBox=\"0 0 24 24\"\n",
              "       width=\"24px\">\n",
              "    <path d=\"M0 0h24v24H0V0z\" fill=\"none\"/>\n",
              "    <path d=\"M18.56 5.44l.94 2.06.94-2.06 2.06-.94-2.06-.94-.94-2.06-.94 2.06-2.06.94zm-11 1L8.5 8.5l.94-2.06 2.06-.94-2.06-.94L8.5 2.5l-.94 2.06-2.06.94zm10 10l.94 2.06.94-2.06 2.06-.94-2.06-.94-.94-2.06-.94 2.06-2.06.94z\"/><path d=\"M17.41 7.96l-1.37-1.37c-.4-.4-.92-.59-1.43-.59-.52 0-1.04.2-1.43.59L10.3 9.45l-7.72 7.72c-.78.78-.78 2.05 0 2.83L4 21.41c.39.39.9.59 1.41.59.51 0 1.02-.2 1.41-.59l7.78-7.78 2.81-2.81c.8-.78.8-2.07 0-2.86zM5.41 20L4 18.59l7.72-7.72 1.47 1.35L5.41 20z\"/>\n",
              "  </svg>\n",
              "      </button>\n",
              "      \n",
              "  <style>\n",
              "    .colab-df-container {\n",
              "      display:flex;\n",
              "      flex-wrap:wrap;\n",
              "      gap: 12px;\n",
              "    }\n",
              "\n",
              "    .colab-df-convert {\n",
              "      background-color: #E8F0FE;\n",
              "      border: none;\n",
              "      border-radius: 50%;\n",
              "      cursor: pointer;\n",
              "      display: none;\n",
              "      fill: #1967D2;\n",
              "      height: 32px;\n",
              "      padding: 0 0 0 0;\n",
              "      width: 32px;\n",
              "    }\n",
              "\n",
              "    .colab-df-convert:hover {\n",
              "      background-color: #E2EBFA;\n",
              "      box-shadow: 0px 1px 2px rgba(60, 64, 67, 0.3), 0px 1px 3px 1px rgba(60, 64, 67, 0.15);\n",
              "      fill: #174EA6;\n",
              "    }\n",
              "\n",
              "    [theme=dark] .colab-df-convert {\n",
              "      background-color: #3B4455;\n",
              "      fill: #D2E3FC;\n",
              "    }\n",
              "\n",
              "    [theme=dark] .colab-df-convert:hover {\n",
              "      background-color: #434B5C;\n",
              "      box-shadow: 0px 1px 3px 1px rgba(0, 0, 0, 0.15);\n",
              "      filter: drop-shadow(0px 1px 2px rgba(0, 0, 0, 0.3));\n",
              "      fill: #FFFFFF;\n",
              "    }\n",
              "  </style>\n",
              "\n",
              "      <script>\n",
              "        const buttonEl =\n",
              "          document.querySelector('#df-b6117c56-360c-47c3-9ead-196bb36a45c6 button.colab-df-convert');\n",
              "        buttonEl.style.display =\n",
              "          google.colab.kernel.accessAllowed ? 'block' : 'none';\n",
              "\n",
              "        async function convertToInteractive(key) {\n",
              "          const element = document.querySelector('#df-b6117c56-360c-47c3-9ead-196bb36a45c6');\n",
              "          const dataTable =\n",
              "            await google.colab.kernel.invokeFunction('convertToInteractive',\n",
              "                                                     [key], {});\n",
              "          if (!dataTable) return;\n",
              "\n",
              "          const docLinkHtml = 'Like what you see? Visit the ' +\n",
              "            '<a target=\"_blank\" href=https://colab.research.google.com/notebooks/data_table.ipynb>data table notebook</a>'\n",
              "            + ' to learn more about interactive tables.';\n",
              "          element.innerHTML = '';\n",
              "          dataTable['output_type'] = 'display_data';\n",
              "          await google.colab.output.renderOutput(dataTable, element);\n",
              "          const docLink = document.createElement('div');\n",
              "          docLink.innerHTML = docLinkHtml;\n",
              "          element.appendChild(docLink);\n",
              "        }\n",
              "      </script>\n",
              "    </div>\n",
              "  </div>\n",
              "  "
            ]
          },
          "metadata": {},
          "execution_count": 13
        }
      ]
    },
    {
      "cell_type": "markdown",
      "source": [
        "By manually observing data it is noticed that each row where value for **'leaders_killed'** is missing, also has corresponding missing value for **'leader_names'** and **'leader_description'**.\n"
      ],
      "metadata": {
        "id": "Nwf9lj4FPJmX"
      }
    },
    {
      "cell_type": "code",
      "source": [
        "null_leaders_killed_indices = list(df[df['leaders_killed'].isnull()].index)\n",
        "null_leaders_names_indices = list(df[df['leader_names'].isnull()].index)\n",
        "null_leaders_description_indices = list(df[df['leader_description'].isnull()].index)"
      ],
      "metadata": {
        "id": "8ExS2xwbKCUt"
      },
      "execution_count": null,
      "outputs": []
    },
    {
      "cell_type": "code",
      "source": [
        "df.loc[null_leaders_killed_indices,'leaders_killed'] = 0"
      ],
      "metadata": {
        "id": "vtSmN-4IKuWS"
      },
      "execution_count": null,
      "outputs": []
    },
    {
      "cell_type": "code",
      "source": [
        "df.loc[null_leaders_names_indices,'leader_names'] = 'none'"
      ],
      "metadata": {
        "id": "4rxkouqIO3pP"
      },
      "execution_count": null,
      "outputs": []
    },
    {
      "cell_type": "code",
      "source": [
        "df.loc[null_leaders_description_indices,'leader_description'] = 'none'"
      ],
      "metadata": {
        "id": "dgJ9tzTBPCQV"
      },
      "execution_count": null,
      "outputs": []
    },
    {
      "cell_type": "markdown",
      "source": [
        "### c) Unknown, civilians and millitants"
      ],
      "metadata": {
        "id": "k3a2cuPgTATn"
      }
    },
    {
      "cell_type": "markdown",
      "source": [
        "By observing data it can be seen that low, high and average values for unknown, civilians and millitants are missing because they don't exist or simply casualties in respective categories are 0."
      ],
      "metadata": {
        "id": "bJtA9TRxys87"
      }
    },
    {
      "cell_type": "code",
      "source": [
        "df[['militants_low','militants_high','militants_avg']] = df[['militants_low','militants_high','militants_avg']].fillna(0)"
      ],
      "metadata": {
        "id": "hFNb24riTLoh"
      },
      "execution_count": null,
      "outputs": []
    },
    {
      "cell_type": "code",
      "source": [
        "df[['unknown_low','unknown_high','unknown_avg']] = df[['unknown_low','unknown_high','unknown_avg']].fillna(0)"
      ],
      "metadata": {
        "id": "LlDyurppWutw"
      },
      "execution_count": null,
      "outputs": []
    },
    {
      "cell_type": "code",
      "source": [
        "df[['civilians_low','civilians_high','civilians_avg']] = df[['civilians_low','civilians_high','civilians_avg']].fillna(0)"
      ],
      "metadata": {
        "id": "1Eil_SbJW6Jl"
      },
      "execution_count": null,
      "outputs": []
    },
    {
      "cell_type": "markdown",
      "source": [
        "### d) target_group and target_organization_name"
      ],
      "metadata": {
        "id": "LDM6XANPXK6v"
      }
    },
    {
      "cell_type": "markdown",
      "source": [
        "Checking unique values in ***target_group*** and ***target_organization_name*** column"
      ],
      "metadata": {
        "id": "pHmxm_6k1FCX"
      }
    },
    {
      "cell_type": "code",
      "source": [
        "df['target_group'].value_counts()"
      ],
      "metadata": {
        "colab": {
          "base_uri": "https://localhost:8080/"
        },
        "id": "_jXeSMQk0hqd",
        "outputId": "81b1e775-c70d-4629-a70c-ccaf71b6ec48"
      },
      "execution_count": null,
      "outputs": [
        {
          "output_type": "execute_result",
          "data": {
            "text/plain": [
              "7. Unclear                           170\n",
              "1. Taliban                           128\n",
              "3. Al-Qaeda                           51\n",
              "4. Haqqani Network                    43\n",
              "2. Taliban factions                   17\n",
              "5. Islamic Movement of Uzbekistan      3\n",
              "6. ISIS                                1\n",
              "Name: target_group, dtype: int64"
            ]
          },
          "metadata": {},
          "execution_count": 22
        }
      ]
    },
    {
      "cell_type": "code",
      "source": [
        "df['target_organization_name'].value_counts()"
      ],
      "metadata": {
        "colab": {
          "base_uri": "https://localhost:8080/"
        },
        "id": "QNYWLeKX02ue",
        "outputId": "442834aa-618a-4579-9d31-5ccc24d4c0c8"
      },
      "execution_count": null,
      "outputs": [
        {
          "output_type": "execute_result",
          "data": {
            "text/plain": [
              "Unclear                               170\n",
              "Taliban                               128\n",
              "Al-Qaeda                               51\n",
              "Haqqani Network                        43\n",
              "Baitullah Mehsud Faction (Taliban)     15\n",
              "Islamic Movement of Uzbekistan          3\n",
              "Maulvi Nazir Faction (Taliban)          2\n",
              "ISIS                                    1\n",
              "Name: target_organization_name, dtype: int64"
            ]
          },
          "metadata": {},
          "execution_count": 23
        }
      ]
    },
    {
      "cell_type": "markdown",
      "source": [
        "It can be observed that value is missing because it doesn't exist."
      ],
      "metadata": {
        "id": "X-3jM0x61QB4"
      }
    },
    {
      "cell_type": "markdown",
      "source": [
        "Replace values with 'unclear'"
      ],
      "metadata": {
        "id": "veCy_EjQ1W6t"
      }
    },
    {
      "cell_type": "code",
      "source": [
        "null_target_group_indices =  list(df[df['target_group'].isnull()][['target_group','target_type','target_organization_name']].index)"
      ],
      "metadata": {
        "id": "6Xv2jYgSU_f4"
      },
      "execution_count": null,
      "outputs": []
    },
    {
      "cell_type": "code",
      "source": [
        "df.loc[null_target_group_indices,'target_group'] = 'unclear'"
      ],
      "metadata": {
        "id": "wZFifCRjYGdV"
      },
      "execution_count": null,
      "outputs": []
    },
    {
      "cell_type": "code",
      "source": [
        "df.loc[null_target_group_indices,'target_organization_name'] = 'unclear'"
      ],
      "metadata": {
        "id": "AAZK4XuSZ2eX"
      },
      "execution_count": null,
      "outputs": []
    },
    {
      "cell_type": "markdown",
      "source": [
        "## 4) Data Formatting"
      ],
      "metadata": {
        "id": "nh6ZmOcB3WSC"
      }
    },
    {
      "cell_type": "markdown",
      "source": [
        "### a) Convert string data to lower case"
      ],
      "metadata": {
        "id": "zKkOmNek3frz"
      }
    },
    {
      "cell_type": "code",
      "source": [
        "df = df.applymap(lambda s: s.lower() if type(s) == str else s)"
      ],
      "metadata": {
        "id": "EYHRDocnoj6O"
      },
      "execution_count": null,
      "outputs": []
    },
    {
      "cell_type": "markdown",
      "source": [
        "### b) Renaming Columns"
      ],
      "metadata": {
        "id": "D30jc3T13xeX"
      }
    },
    {
      "cell_type": "code",
      "source": [
        "df.rename(columns={\"militants_low\":\"militants-killed-low\",\"militants_high\":\"militants-killed-high\",\"militants_avg\":\"militants-killed-avg\",\"unknown_low\":\"unknown-killed-low\",\"unknown_high\":\"unknown-killed-high\",\"unknown_avg\":\"unknown-killed-avg\",\"civilians_low\":\"civilians-killed-low\",\"civilians_high\":\"civilians-killed-high\",\"civilians_avg\":\"civilians-killed-avg\",\"total_low\":\"total-killed-low\",\"total_high\":\"total-killed-high\",\"total_avg\":\"total-killed-avg\",\"leader_names\":\"leader-names\",\"leaders_killed\":\"leaders-killed\",\"leader_description\":\"leader-description\",\"president_name\":\"president (US)\",\"target_type\":\"target-type\",\"target_organization_name\":\"target-organization\",\"target_group\":\"target-group\",\"geo_lat\":\"target-latitude\",\"geo_lon\":\"target-longitude\"}, inplace=True)"
      ],
      "metadata": {
        "id": "Agf_Qc1Q3rkE"
      },
      "execution_count": null,
      "outputs": []
    },
    {
      "cell_type": "markdown",
      "source": [
        "### c) Parsing date column"
      ],
      "metadata": {
        "id": "MsTbsfJY8rcg"
      }
    },
    {
      "cell_type": "code",
      "source": [
        "df['date'] = pd.to_datetime(df['date'], format=\"%m/%d/%y\",infer_datetime_format=True)"
      ],
      "metadata": {
        "id": "U7-oxAAN4C-i"
      },
      "execution_count": null,
      "outputs": []
    },
    {
      "cell_type": "markdown",
      "source": [
        "### d) Changing Data types of columns"
      ],
      "metadata": {
        "id": "0q_ANgIw-G4x"
      }
    },
    {
      "cell_type": "code",
      "source": [
        "df.dtypes"
      ],
      "metadata": {
        "colab": {
          "base_uri": "https://localhost:8080/"
        },
        "id": "ns-I1c7V33dq",
        "outputId": "26b28861-0a93-4ca9-ee0d-6c97ab946455"
      },
      "execution_count": null,
      "outputs": [
        {
          "output_type": "execute_result",
          "data": {
            "text/plain": [
              "strikes                           int64\n",
              "date                     datetime64[ns]\n",
              "village                          object\n",
              "region                           object\n",
              "year                              int64\n",
              "leaders-killed                  float64\n",
              "leader-names                     object\n",
              "leader-description               object\n",
              "militants-killed-low            float64\n",
              "militants-killed-high           float64\n",
              "militants-killed-avg            float64\n",
              "unknown-killed-low              float64\n",
              "unknown-killed-high             float64\n",
              "unknown-killed-avg              float64\n",
              "civilians-killed-low            float64\n",
              "civilians-killed-high           float64\n",
              "civilians-killed-avg            float64\n",
              "total-killed-low                  int64\n",
              "total-killed-high                 int64\n",
              "total-killed-avg                float64\n",
              "president (US)                   object\n",
              "target-type                      object\n",
              "target-organization              object\n",
              "target-group                     object\n",
              "target-latitude                 float64\n",
              "target-longitude                float64\n",
              "province                         object\n",
              "dtype: object"
            ]
          },
          "metadata": {},
          "execution_count": 30
        }
      ]
    },
    {
      "cell_type": "code",
      "source": [
        "df[\"leaders-killed\"] = df[\"leaders-killed\"].astype(\"int\")\n",
        "df[\"militants-killed-low\"] = df[\"militants-killed-low\"].astype(\"int\")\n",
        "df[\"militants-killed-high\"] = df[\"militants-killed-high\"].astype(\"int\")\n",
        "df[\"militants-killed-avg\"] = df[\"militants-killed-avg\"].astype(\"int\")\n",
        "df[\"unknown-killed-low\"] = df[\"unknown-killed-low\"].astype(\"int\")\n",
        "df[\"unknown-killed-high\"] = df[\"unknown-killed-high\"].astype(\"int\")\n",
        "df[\"unknown-killed-avg\"] = df[\"unknown-killed-avg\"].astype(\"int\")\n",
        "df[\"civilians-killed-low\"] = df[\"civilians-killed-low\"].astype(\"int\")\n",
        "df[\"civilians-killed-high\"] = df[\"civilians-killed-high\"].astype(\"int\")\n",
        "df[\"civilians-killed-avg\"] = df[\"civilians-killed-avg\"].astype(\"int\")\n",
        "df[\"total-killed-avg\"] = df[\"total-killed-avg\"].astype(\"int\")"
      ],
      "metadata": {
        "id": "rQ-rgKqD9vzV"
      },
      "execution_count": null,
      "outputs": []
    },
    {
      "cell_type": "markdown",
      "source": [
        "## 5) Dealing with Inconsistent Data"
      ],
      "metadata": {
        "id": "93Wgq9nEANxU"
      }
    },
    {
      "cell_type": "markdown",
      "source": [
        "### a) Region"
      ],
      "metadata": {
        "id": "2VhdGv4_1If9"
      }
    },
    {
      "cell_type": "code",
      "source": [
        "df['region'].value_counts()"
      ],
      "metadata": {
        "colab": {
          "base_uri": "https://localhost:8080/"
        },
        "id": "TPThrmgtAaG1",
        "outputId": "b93699c1-2b86-4051-b6d8-7f4a62e2caf4"
      },
      "execution_count": null,
      "outputs": [
        {
          "output_type": "execute_result",
          "data": {
            "text/plain": [
              "north waziristan                       297\n",
              "south waziristan                        89\n",
              "khyber                                   6\n",
              "kurram agency                            6\n",
              "kurram                                   5\n",
              "bajaur                                   3\n",
              "khyber pakhtunkhwa                       3\n",
              "orakzai                                  2\n",
              "federally administered tribal areas      1\n",
              "balochistan                              1\n",
              "khyber punkhtunkhwa                      1\n",
              "Name: region, dtype: int64"
            ]
          },
          "metadata": {},
          "execution_count": 32
        }
      ]
    },
    {
      "cell_type": "markdown",
      "source": [
        "Replacing *khyber punkhtunkhwa* and *khyber* with *khyber pakhtunkhwa*."
      ],
      "metadata": {
        "id": "gcELr0Ok1KhX"
      }
    },
    {
      "cell_type": "code",
      "source": [
        "df['region'].replace('khyber punkhtunkhwa','khyber pakhtunkhwa',inplace=True)"
      ],
      "metadata": {
        "id": "azcnP5f0CFFH"
      },
      "execution_count": null,
      "outputs": []
    },
    {
      "cell_type": "code",
      "source": [
        "df['region'].replace('khyber','khyber pakhtunkhwa',inplace=True)"
      ],
      "metadata": {
        "id": "JjOzmdzPCVHg"
      },
      "execution_count": null,
      "outputs": []
    },
    {
      "cell_type": "markdown",
      "source": [
        "Replacing *kurram* with *kurram agency*."
      ],
      "metadata": {
        "id": "340ZiRPd1uCd"
      }
    },
    {
      "cell_type": "code",
      "source": [
        "df['region'].replace('kurram','kurram agency',inplace=True)"
      ],
      "metadata": {
        "id": "pYoboQx5Al3u"
      },
      "execution_count": null,
      "outputs": []
    },
    {
      "cell_type": "markdown",
      "source": [
        "### b) Target Type"
      ],
      "metadata": {
        "id": "rd_HmJHL2Qbi"
      }
    },
    {
      "cell_type": "code",
      "source": [
        "df['target-type'].value_counts()"
      ],
      "metadata": {
        "colab": {
          "base_uri": "https://localhost:8080/"
        },
        "id": "bZG28YSqC4cs",
        "outputId": "d351a33f-0ca7-4cce-a4d1-23bed2c5db64"
      },
      "execution_count": null,
      "outputs": [
        {
          "output_type": "execute_result",
          "data": {
            "text/plain": [
              "compound              150\n",
              "vehicle                92\n",
              "house                  91\n",
              "unclear                25\n",
              "training camp          15\n",
              "gathering               9\n",
              "militantcompound        7\n",
              "motorcycle              7\n",
              "house and vehicle       6\n",
              "madrassa                4\n",
              "funeral                 3\n",
              "business                2\n",
              "building                2\n",
              "militant componund      1\n",
              "Name: target-type, dtype: int64"
            ]
          },
          "metadata": {},
          "execution_count": 36
        }
      ]
    },
    {
      "cell_type": "markdown",
      "source": [
        "Replacing *militant componund* and *militantcompound* with compound"
      ],
      "metadata": {
        "id": "Ar2jjPMA2UF5"
      }
    },
    {
      "cell_type": "code",
      "source": [
        "df['target-type'].replace('militant componund','compound',inplace=True)"
      ],
      "metadata": {
        "id": "1Q7CG1E6DCTp"
      },
      "execution_count": null,
      "outputs": []
    },
    {
      "cell_type": "code",
      "source": [
        "df['target-type'].replace('militantcompound','compound',inplace=True)"
      ],
      "metadata": {
        "id": "H0z1UQINDVFd"
      },
      "execution_count": null,
      "outputs": []
    },
    {
      "cell_type": "markdown",
      "source": [
        "Replacing *motorcycle* with *vehicle*."
      ],
      "metadata": {
        "id": "IjVk_X382d7V"
      }
    },
    {
      "cell_type": "code",
      "source": [
        "df['target-type'].replace('motorcycle','vehicle',inplace=True)"
      ],
      "metadata": {
        "id": "ophpBH-MDZzg"
      },
      "execution_count": null,
      "outputs": []
    },
    {
      "cell_type": "markdown",
      "source": [
        "### c) Organization"
      ],
      "metadata": {
        "id": "0G0090p_2rjq"
      }
    },
    {
      "cell_type": "code",
      "source": [
        "df['target-organization'].value_counts()"
      ],
      "metadata": {
        "colab": {
          "base_uri": "https://localhost:8080/"
        },
        "id": "6Mxg5U6-DoEB",
        "outputId": "6b213f6b-c1d1-4bc7-9e77-6f3207cdf5ba"
      },
      "execution_count": null,
      "outputs": [
        {
          "output_type": "execute_result",
          "data": {
            "text/plain": [
              "unclear                               171\n",
              "taliban                               128\n",
              "al-qaeda                               51\n",
              "haqqani network                        43\n",
              "baitullah mehsud faction (taliban)     15\n",
              "islamic movement of uzbekistan          3\n",
              "maulvi nazir faction (taliban)          2\n",
              "isis                                    1\n",
              "Name: target-organization, dtype: int64"
            ]
          },
          "metadata": {},
          "execution_count": 40
        }
      ]
    },
    {
      "cell_type": "markdown",
      "source": [
        "Replacing *baitullah mehsud faction (taliban)* and *maulvi nazir faction (taliban)* with *taliban*"
      ],
      "metadata": {
        "id": "NRC-jtxq2vUi"
      }
    },
    {
      "cell_type": "code",
      "source": [
        "df['target-organization'].replace('baitullah mehsud faction (taliban)','taliban',inplace=True)"
      ],
      "metadata": {
        "id": "j7H5Nl2eD9oo"
      },
      "execution_count": null,
      "outputs": []
    },
    {
      "cell_type": "code",
      "source": [
        "df['target-organization'].replace('maulvi nazir faction (taliban)','taliban',inplace=True)"
      ],
      "metadata": {
        "id": "AFliy-oAEO0u"
      },
      "execution_count": null,
      "outputs": []
    },
    {
      "cell_type": "code",
      "source": [
        "path = '/content/drive/My Drive/Data Science/drone-attacks-data-cleaned.csv'\n",
        "with open(path, 'w', encoding = 'utf-8-sig') as f:\n",
        "  df.to_csv(f)"
      ],
      "metadata": {
        "id": "JxHdF5OqFaHt"
      },
      "execution_count": null,
      "outputs": []
    }
  ]
}